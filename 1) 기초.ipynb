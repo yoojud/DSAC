{
 "cells": [
  {
   "cell_type": "markdown",
   "id": "8d75e476",
   "metadata": {},
   "source": [
    "M1 과정\n",
    "\n",
    "10월의 마지막 날\n",
    "\n",
    "유지연"
   ]
  },
  {
   "cell_type": "code",
   "execution_count": 2,
   "id": "1f2c0345",
   "metadata": {},
   "outputs": [
    {
     "name": "stdout",
     "output_type": "stream",
     "text": [
      "출력 5 10 50 3 3.3333333333333335 1 끝\n"
     ]
    },
    {
     "data": {
      "text/plain": [
       "(3, 3.3333333333333335, 1)"
      ]
     },
     "execution_count": 2,
     "metadata": {},
     "output_type": "execute_result"
    }
   ],
   "source": [
    "a=5\n",
    "b=10\n",
    "\n",
    "c=a*b\n",
    "e=10/3 ##실수형 나누기 - 3.3333\n",
    "d=10//3 ##정수형 나누기 - 3\n",
    "f=10%3 ## 정수형 나누기의 나머지 - 1\n",
    "\n",
    "print(\"출력\", a, b, c, d, e, f, '끝')\n",
    "d, e, f #마지막줄에 작성된 변수는 print 없어도 출력됨"
   ]
  },
  {
   "cell_type": "code",
   "execution_count": 3,
   "id": "4de3b4d3",
   "metadata": {},
   "outputs": [
    {
     "name": "stdout",
     "output_type": "stream",
     "text": [
      "5 * 10 = 50\n",
      "5 * 10 = 50\n",
      "10 * 5 = 50\n"
     ]
    }
   ],
   "source": [
    "print(a, \"*\", b, '=', c)\n",
    "print(\"{} * {} = {}\".format(a, b, c))\n",
    "print(\"{1} * {0} = {2}\".format(a, b, c))"
   ]
  },
  {
   "cell_type": "code",
   "execution_count": 3,
   "id": "b6ac00c8",
   "metadata": {},
   "outputs": [
    {
     "name": "stdout",
     "output_type": "stream",
     "text": [
      "100200\n",
      "300\n"
     ]
    }
   ],
   "source": [
    "print(\"100\"+\"200\")\n",
    "print(100+200)"
   ]
  },
  {
   "cell_type": "code",
   "execution_count": 4,
   "id": "8bf3c6be",
   "metadata": {},
   "outputs": [
    {
     "name": "stdout",
     "output_type": "stream",
     "text": [
      "수?5\n"
     ]
    },
    {
     "data": {
      "text/plain": [
       "'55555'"
      ]
     },
     "execution_count": 4,
     "metadata": {},
     "output_type": "execute_result"
    }
   ],
   "source": [
    "no=input('수?') ## 키보드로부터 입력받은 모든 수는 문자 취급\n",
    "no*5 ## 문자의 곱은 반복"
   ]
  },
  {
   "cell_type": "code",
   "execution_count": 5,
   "id": "fac214e4",
   "metadata": {},
   "outputs": [
    {
     "name": "stdout",
     "output_type": "stream",
     "text": [
      "수?5\n"
     ]
    },
    {
     "data": {
      "text/plain": [
       "25"
      ]
     },
     "execution_count": 5,
     "metadata": {},
     "output_type": "execute_result"
    }
   ],
   "source": [
    "no=input('수?')\n",
    "no=int(no)\n",
    "no*5"
   ]
  },
  {
   "cell_type": "code",
   "execution_count": 6,
   "id": "4dcad116",
   "metadata": {},
   "outputs": [
    {
     "name": "stdout",
     "output_type": "stream",
     "text": [
      "수?5\n"
     ]
    },
    {
     "data": {
      "text/plain": [
       "25"
      ]
     },
     "execution_count": 6,
     "metadata": {},
     "output_type": "execute_result"
    }
   ],
   "source": [
    "no=int(input('수?'))\n",
    "no*5"
   ]
  },
  {
   "cell_type": "code",
   "execution_count": 7,
   "id": "d3914856",
   "metadata": {},
   "outputs": [],
   "source": [
    "a=5 ##정수형\n",
    "b=5.0 ##실수형\n",
    "c=5.1 ##실수형\n",
    "d='a' ##문자-string\n",
    "e=\"e\" ##문자-string\n",
    "f='''1~~~\n",
    "2~~~\n",
    "3~~~ ''' ##줄 단위의 문자 - string\n",
    "g=\"\"\"1~~~\n",
    "2~~~\n",
    "3~~~ \"\"\" ##줄 단위의 문자 - string\n",
    "h=True ##참 논리형(부울형) -- 숫자1\n",
    "i=False ##거짓 논리형(부울형) -- 숫자0"
   ]
  },
  {
   "cell_type": "code",
   "execution_count": 8,
   "id": "c6127f8a",
   "metadata": {},
   "outputs": [
    {
     "data": {
      "text/plain": [
       "(int, bool, float)"
      ]
     },
     "execution_count": 8,
     "metadata": {},
     "output_type": "execute_result"
    }
   ],
   "source": [
    "type(a), type(i), type(b)"
   ]
  },
  {
   "cell_type": "code",
   "execution_count": 9,
   "id": "e6703832",
   "metadata": {},
   "outputs": [],
   "source": [
    "listA=[a, b, c, d, e, f, g, h, i]\n",
    "listB=[5, 9, 12, 8, 30]"
   ]
  },
  {
   "cell_type": "code",
   "execution_count": 10,
   "id": "6179f2af",
   "metadata": {},
   "outputs": [
    {
     "data": {
      "text/plain": [
       "[5,\n",
       " 5.0,\n",
       " 5.1,\n",
       " 'a',\n",
       " 'e',\n",
       " '1~~~\\n2~~~\\n3~~~ ',\n",
       " '1~~~\\n2~~~\\n3~~~ ',\n",
       " True,\n",
       " False,\n",
       " 5,\n",
       " 9,\n",
       " 12,\n",
       " 8,\n",
       " 30]"
      ]
     },
     "execution_count": 10,
     "metadata": {},
     "output_type": "execute_result"
    }
   ],
   "source": [
    "listA + listB"
   ]
  },
  {
   "cell_type": "code",
   "execution_count": 11,
   "id": "c7958e7b",
   "metadata": {},
   "outputs": [
    {
     "data": {
      "text/plain": [
       "[5,\n",
       " 5.0,\n",
       " 5.1,\n",
       " 'a',\n",
       " 'e',\n",
       " '1~~~\\n2~~~\\n3~~~ ',\n",
       " '1~~~\\n2~~~\\n3~~~ ',\n",
       " True,\n",
       " False,\n",
       " 5,\n",
       " 5.0,\n",
       " 5.1,\n",
       " 'a',\n",
       " 'e',\n",
       " '1~~~\\n2~~~\\n3~~~ ',\n",
       " '1~~~\\n2~~~\\n3~~~ ',\n",
       " True,\n",
       " False]"
      ]
     },
     "execution_count": 11,
     "metadata": {},
     "output_type": "execute_result"
    }
   ],
   "source": [
    "listA*2 ##문자라 2번 반복"
   ]
  },
  {
   "cell_type": "code",
   "execution_count": 12,
   "id": "9a7974e3",
   "metadata": {},
   "outputs": [
    {
     "data": {
      "text/plain": [
       "[5, 9, 12, 8, 30, 5, 9, 12, 8, 30]"
      ]
     },
     "execution_count": 12,
     "metadata": {},
     "output_type": "execute_result"
    }
   ],
   "source": [
    "listB*2 ##2번 반복"
   ]
  },
  {
   "cell_type": "code",
   "execution_count": 13,
   "id": "18cf5c31",
   "metadata": {},
   "outputs": [],
   "source": [
    "listC=[5, 10, 15, 20, 25, 30, 35, 40]"
   ]
  },
  {
   "cell_type": "code",
   "execution_count": 14,
   "id": "e1d53ece",
   "metadata": {},
   "outputs": [
    {
     "data": {
      "text/plain": [
       "(30, 40, 5)"
      ]
     },
     "execution_count": 14,
     "metadata": {},
     "output_type": "execute_result"
    }
   ],
   "source": [
    "##인덱스: 위치를 번호로 지정\n",
    "listC[-3], listC[-1], listC[0]"
   ]
  },
  {
   "cell_type": "code",
   "execution_count": 15,
   "id": "bed14b06",
   "metadata": {},
   "outputs": [
    {
     "data": {
      "text/plain": [
       "[5, 10, 15, 20, 25, 30, 35, 100]"
      ]
     },
     "execution_count": 15,
     "metadata": {},
     "output_type": "execute_result"
    }
   ],
   "source": [
    "##값 수정시 인덱스를 이용\n",
    "listC[-1]=100\n",
    "listC"
   ]
  },
  {
   "cell_type": "code",
   "execution_count": 16,
   "id": "d2957835",
   "metadata": {},
   "outputs": [
    {
     "data": {
      "text/plain": [
       "[10, 15, 20, 25]"
      ]
     },
     "execution_count": 16,
     "metadata": {},
     "output_type": "execute_result"
    }
   ],
   "source": [
    "##슬라이스: 영역을 나누어서 지정, 중요함!!\n",
    "listC[1:5] ##1번 위치부터 ~ 4번 위치까지"
   ]
  },
  {
   "cell_type": "code",
   "execution_count": 17,
   "id": "93000947",
   "metadata": {},
   "outputs": [
    {
     "data": {
      "text/plain": [
       "[5, 10, 15, 20, 25, 30]"
      ]
     },
     "execution_count": 17,
     "metadata": {},
     "output_type": "execute_result"
    }
   ],
   "source": [
    "listC[:6] ##0 ~ 5"
   ]
  },
  {
   "cell_type": "code",
   "execution_count": 18,
   "id": "e687edb7",
   "metadata": {},
   "outputs": [
    {
     "data": {
      "text/plain": [
       "[20, 25, 30, 35, 100]"
      ]
     },
     "execution_count": 18,
     "metadata": {},
     "output_type": "execute_result"
    }
   ],
   "source": [
    "listC[3:] ##3~끝"
   ]
  },
  {
   "cell_type": "code",
   "execution_count": 19,
   "id": "bac5d0f2",
   "metadata": {},
   "outputs": [
    {
     "data": {
      "text/plain": [
       "list"
      ]
     },
     "execution_count": 19,
     "metadata": {},
     "output_type": "execute_result"
    }
   ],
   "source": [
    "type(listC)"
   ]
  },
  {
   "cell_type": "code",
   "execution_count": 20,
   "id": "034e41c5",
   "metadata": {},
   "outputs": [
    {
     "data": {
      "text/plain": [
       "[5, 10, 15, 20, 25, 30, 35, 100, 200]"
      ]
     },
     "execution_count": 20,
     "metadata": {},
     "output_type": "execute_result"
    }
   ],
   "source": [
    "listC.append(200) ## 마지막 위치에 추가됨 무한으로\n",
    "listC"
   ]
  },
  {
   "cell_type": "code",
   "execution_count": 21,
   "id": "f1f01e69",
   "metadata": {},
   "outputs": [
    {
     "data": {
      "text/plain": [
       "[5, 10, 15, 330, 20, 25, 30, 35, 100, 200]"
      ]
     },
     "execution_count": 21,
     "metadata": {},
     "output_type": "execute_result"
    }
   ],
   "source": [
    "listC.insert(3, 330) ##특정 위치에 삽입(기존 값 밀림)\n",
    "listC"
   ]
  },
  {
   "cell_type": "code",
   "execution_count": 22,
   "id": "9f3f6f9c",
   "metadata": {},
   "outputs": [
    {
     "data": {
      "text/plain": [
       "[330, 5, 10, 15, 330, 20, 25, 30, 35, 100, 200]"
      ]
     },
     "execution_count": 22,
     "metadata": {},
     "output_type": "execute_result"
    }
   ],
   "source": [
    "listC.insert(0, 330) \n",
    "listC"
   ]
  },
  {
   "cell_type": "code",
   "execution_count": 23,
   "id": "c81c4ed4",
   "metadata": {},
   "outputs": [
    {
     "data": {
      "text/plain": [
       "1"
      ]
     },
     "execution_count": 23,
     "metadata": {},
     "output_type": "execute_result"
    }
   ],
   "source": [
    "listC.count(200) ##200이 몇번 나오는지"
   ]
  },
  {
   "cell_type": "code",
   "execution_count": 24,
   "id": "64f2f6b8",
   "metadata": {},
   "outputs": [
    {
     "data": {
      "text/plain": [
       "3"
      ]
     },
     "execution_count": 24,
     "metadata": {},
     "output_type": "execute_result"
    }
   ],
   "source": [
    "listC.index(15) ##15가 있는 위치값(인덱스값)"
   ]
  },
  {
   "cell_type": "code",
   "execution_count": 25,
   "id": "c3eb2931",
   "metadata": {},
   "outputs": [
    {
     "data": {
      "text/plain": [
       "[5, 10, 15, 20, 25, 30, 35, 100, 200, 330, 330]"
      ]
     },
     "execution_count": 25,
     "metadata": {},
     "output_type": "execute_result"
    }
   ],
   "source": [
    "listC.sort()\n",
    "listC"
   ]
  },
  {
   "cell_type": "code",
   "execution_count": 26,
   "id": "c99a60bd",
   "metadata": {},
   "outputs": [
    {
     "data": {
      "text/plain": [
       "[330, 330, 200, 100, 35, 30, 25, 20, 15, 10, 5]"
      ]
     },
     "execution_count": 26,
     "metadata": {},
     "output_type": "execute_result"
    }
   ],
   "source": [
    "listC.sort(reverse=True)\n",
    "listC"
   ]
  },
  {
   "cell_type": "code",
   "execution_count": 27,
   "id": "5eef3f7a",
   "metadata": {},
   "outputs": [
    {
     "data": {
      "text/plain": [
       "[5, 10, 15, 20, 25, 30, 35, 100, 200, 330, 330]"
      ]
     },
     "execution_count": 27,
     "metadata": {},
     "output_type": "execute_result"
    }
   ],
   "source": [
    "listC.reverse() ##오름-><-내림\n",
    "listC"
   ]
  },
  {
   "cell_type": "code",
   "execution_count": 28,
   "id": "3ca78171",
   "metadata": {},
   "outputs": [
    {
     "name": "stdout",
     "output_type": "stream",
     "text": [
      "300 없음\n"
     ]
    },
    {
     "data": {
      "text/plain": [
       "[5, 10, 15, 20, 25, 30, 35, 100, 200, 330, 330]"
      ]
     },
     "execution_count": 28,
     "metadata": {},
     "output_type": "execute_result"
    }
   ],
   "source": [
    "if 300 in listC :\n",
    "  listC.remove(330) ##앞쪽에 있는 330 1개를 지움\n",
    "  print(\"지움\")\n",
    "else :\n",
    "  print(\"300 없음\")\n",
    "listC"
   ]
  },
  {
   "cell_type": "code",
   "execution_count": 29,
   "id": "5c8b85ca",
   "metadata": {},
   "outputs": [
    {
     "name": "stdout",
     "output_type": "stream",
     "text": [
      "200 지움\n"
     ]
    },
    {
     "data": {
      "text/plain": [
       "[5, 10, 15, 20, 25, 30, 35, 100, 330, 330]"
      ]
     },
     "execution_count": 29,
     "metadata": {},
     "output_type": "execute_result"
    }
   ],
   "source": [
    "if 200 not in listC :\n",
    "  print(\"200 없음\")\n",
    "else:\n",
    "  listC.remove(200)\n",
    "  print(\"200 지움\")\n",
    "listC"
   ]
  },
  {
   "cell_type": "code",
   "execution_count": 30,
   "id": "cc14b56c",
   "metadata": {},
   "outputs": [
    {
     "data": {
      "text/plain": [
       "330"
      ]
     },
     "execution_count": 30,
     "metadata": {},
     "output_type": "execute_result"
    }
   ],
   "source": [
    "max(listC)"
   ]
  },
  {
   "cell_type": "code",
   "execution_count": 31,
   "id": "cb668367",
   "metadata": {},
   "outputs": [
    {
     "data": {
      "text/plain": [
       "5"
      ]
     },
     "execution_count": 31,
     "metadata": {},
     "output_type": "execute_result"
    }
   ],
   "source": [
    "min(listC)"
   ]
  },
  {
   "cell_type": "code",
   "execution_count": 32,
   "id": "87c07cf1",
   "metadata": {},
   "outputs": [
    {
     "data": {
      "text/plain": [
       "900"
      ]
     },
     "execution_count": 32,
     "metadata": {},
     "output_type": "execute_result"
    }
   ],
   "source": [
    "sum(listC)"
   ]
  },
  {
   "cell_type": "code",
   "execution_count": 33,
   "id": "b82eb15b",
   "metadata": {},
   "outputs": [
    {
     "data": {
      "text/plain": [
       "10"
      ]
     },
     "execution_count": 33,
     "metadata": {},
     "output_type": "execute_result"
    }
   ],
   "source": [
    "len(listC)"
   ]
  },
  {
   "cell_type": "code",
   "execution_count": 34,
   "id": "113e0a20",
   "metadata": {},
   "outputs": [
    {
     "data": {
      "text/plain": [
       "90.0"
      ]
     },
     "execution_count": 34,
     "metadata": {},
     "output_type": "execute_result"
    }
   ],
   "source": [
    "sum(listC)/len(listC)"
   ]
  },
  {
   "cell_type": "code",
   "execution_count": 35,
   "id": "80bc9c94",
   "metadata": {},
   "outputs": [
    {
     "data": {
      "text/plain": [
       "(tuple, tuple)"
      ]
     },
     "execution_count": 35,
     "metadata": {},
     "output_type": "execute_result"
    }
   ],
   "source": [
    "a=1, 2, 3\n",
    "b=(1, 2, 3)\n",
    "type(a), type(b)"
   ]
  },
  {
   "cell_type": "code",
   "execution_count": 36,
   "id": "c54bbefd",
   "metadata": {},
   "outputs": [],
   "source": [
    "a=[0]"
   ]
  },
  {
   "cell_type": "code",
   "execution_count": 37,
   "id": "91cfba9e",
   "metadata": {},
   "outputs": [],
   "source": [
    "##튜플은 수정 불가 a[0]=100"
   ]
  },
  {
   "cell_type": "code",
   "execution_count": 38,
   "id": "6ba9582f",
   "metadata": {},
   "outputs": [
    {
     "name": "stdout",
     "output_type": "stream",
     "text": [
      "홍길동\n",
      "26\n",
      "82\n",
      "3\n",
      "<class 'dict'>\n"
     ]
    }
   ],
   "source": [
    "person = {'사람이름' : '홍길동', '나이' : 26, '몸무게' : 82}\n",
    "## 딕셔너리: 인덱스, 슬라이스 개념 없다. -> 키이름으로 접근, 키 이름:값\n",
    "\n",
    "print(person['사람이름'])\n",
    "print(person['나이'])\n",
    "print(person['몸무게'])\n",
    "print(len(person))\n",
    "print(type(person))"
   ]
  },
  {
   "cell_type": "code",
   "execution_count": 39,
   "id": "aa15aec2",
   "metadata": {},
   "outputs": [
    {
     "data": {
      "text/plain": [
       "{'사람이름': '홍길동', '나이': 100, '몸무게': 82, '직업': '의적'}"
      ]
     },
     "execution_count": 39,
     "metadata": {},
     "output_type": "execute_result"
    }
   ],
   "source": [
    "person['나이']=100 ##기존에 존재하는 이름은 수정\n",
    "person['직업']='의적' ##새이름은 추가\n",
    "person"
   ]
  },
  {
   "cell_type": "code",
   "execution_count": 40,
   "id": "f1adc603",
   "metadata": {},
   "outputs": [
    {
     "data": {
      "text/plain": [
       "(dict_keys(['사람이름', '나이', '몸무게', '직업']),\n",
       " dict_values(['홍길동', 100, 82, '의적']),\n",
       " dict_items([('사람이름', '홍길동'), ('나이', 100), ('몸무게', 82), ('직업', '의적')]))"
      ]
     },
     "execution_count": 40,
     "metadata": {},
     "output_type": "execute_result"
    }
   ],
   "source": [
    "person.keys(), person.values(), person.items()"
   ]
  },
  {
   "cell_type": "code",
   "execution_count": 41,
   "id": "314d01a4",
   "metadata": {},
   "outputs": [
    {
     "data": {
      "text/plain": [
       "{'사람이름': '홍길동', '몸무게': 82, '직업': '의적'}"
      ]
     },
     "execution_count": 41,
     "metadata": {},
     "output_type": "execute_result"
    }
   ],
   "source": [
    "del person['나이']\n",
    "person"
   ]
  },
  {
   "cell_type": "code",
   "execution_count": 42,
   "id": "ffafe8be",
   "metadata": {},
   "outputs": [
    {
     "name": "stdout",
     "output_type": "stream",
     "text": [
      "없다.\n"
     ]
    }
   ],
   "source": [
    "if '나이' in person:\n",
    "  del person['나이']\n",
    "  print('지웠다')\n",
    "else:\n",
    "  print(\"없다.\")"
   ]
  },
  {
   "cell_type": "code",
   "execution_count": 43,
   "id": "fd34ddcb",
   "metadata": {},
   "outputs": [
    {
     "data": {
      "text/plain": [
       "[5, 10, 15, 25, 30, 35, 100, 330, 330]"
      ]
     },
     "execution_count": 43,
     "metadata": {},
     "output_type": "execute_result"
    }
   ],
   "source": [
    "del listC[3] ## remove, del 됨\n",
    "listC"
   ]
  },
  {
   "cell_type": "code",
   "execution_count": 44,
   "id": "0feb5d6c",
   "metadata": {},
   "outputs": [
    {
     "data": {
      "text/plain": [
       "[5, 10, 15, 25, 30, 35, 100, 330]"
      ]
     },
     "execution_count": 44,
     "metadata": {},
     "output_type": "execute_result"
    }
   ],
   "source": [
    "listC.pop() ##마지막 위치 삭제\n",
    "listC"
   ]
  },
  {
   "cell_type": "code",
   "execution_count": 45,
   "id": "143e921c",
   "metadata": {},
   "outputs": [
    {
     "data": {
      "text/plain": [
       "[5, 10, 25, 30, 35, 100, 330]"
      ]
     },
     "execution_count": 45,
     "metadata": {},
     "output_type": "execute_result"
    }
   ],
   "source": [
    "listC.pop(2) ##2번째 위치 값 삭제\n",
    "listC"
   ]
  },
  {
   "cell_type": "code",
   "execution_count": 46,
   "id": "1aaa28fb",
   "metadata": {},
   "outputs": [
    {
     "data": {
      "text/plain": [
       "{'몸무게': 82, '직업': '의적'}"
      ]
     },
     "execution_count": 46,
     "metadata": {},
     "output_type": "execute_result"
    }
   ],
   "source": [
    "person.pop('사람이름') ##딕셔너리의 접근은 키이름으로 한다.\n",
    "person"
   ]
  },
  {
   "cell_type": "code",
   "execution_count": 47,
   "id": "1e171bea",
   "metadata": {},
   "outputs": [
    {
     "data": {
      "text/plain": [
       "{}"
      ]
     },
     "execution_count": 47,
     "metadata": {},
     "output_type": "execute_result"
    }
   ],
   "source": [
    "person.clear()\n",
    "person"
   ]
  }
 ],
 "metadata": {
  "kernelspec": {
   "display_name": "Python 3 (ipykernel)",
   "language": "python",
   "name": "python3"
  },
  "language_info": {
   "codemirror_mode": {
    "name": "ipython",
    "version": 3
   },
   "file_extension": ".py",
   "mimetype": "text/x-python",
   "name": "python",
   "nbconvert_exporter": "python",
   "pygments_lexer": "ipython3",
   "version": "3.9.13"
  }
 },
 "nbformat": 4,
 "nbformat_minor": 5
}
