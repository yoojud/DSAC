{
 "cells": [
  {
   "cell_type": "markdown",
   "id": "43228ffe",
   "metadata": {},
   "source": [
    "### for 루프\n",
    "\n",
    "- 동작을 반복할 때 for 루프를 사용한다\n",
    "- for 문장의 끝에는 ':'가 있어야 하며 for 문이 적용되는 블록(block)은 반드시 들여쓰기 (indentation)을 해야 한다. "
   ]
  },
  {
   "cell_type": "code",
   "execution_count": 1,
   "id": "d2a032c9",
   "metadata": {},
   "outputs": [
    {
     "name": "stdout",
     "output_type": "stream",
     "text": [
      "와우\n",
      "와우\n",
      "와우\n",
      "와우\n",
      "와우\n"
     ]
    }
   ],
   "source": [
    "for i in range(5):\n",
    "    print(\"와우\")"
   ]
  },
  {
   "cell_type": "code",
   "execution_count": 2,
   "id": "2fe3c84d",
   "metadata": {},
   "outputs": [
    {
     "name": "stdout",
     "output_type": "stream",
     "text": [
      "\t와\t우2\t와\t우2\t와\t우2\t와\t우2\t와\t우2"
     ]
    }
   ],
   "source": [
    "for i in range(5):\n",
    "    print('\\t와\\t우2', end='')"
   ]
  },
  {
   "cell_type": "code",
   "execution_count": 3,
   "id": "e5b5d0bf",
   "metadata": {},
   "outputs": [
    {
     "name": "stdout",
     "output_type": "stream",
     "text": [
      "와우! 와우! 와우! 와우! 와우! "
     ]
    }
   ],
   "source": [
    "for i in range(5):\n",
    "    print('와우', end='! ')"
   ]
  },
  {
   "cell_type": "code",
   "execution_count": 4,
   "id": "7a3aff14",
   "metadata": {},
   "outputs": [
    {
     "name": "stdout",
     "output_type": "stream",
     "text": [
      "0 \t1 \t2 \t3 \t4 \t"
     ]
    }
   ],
   "source": [
    "for i in range(5): # 5 - 종료조건\n",
    "    print(i, '\\t', end='')"
   ]
  },
  {
   "cell_type": "code",
   "execution_count": 5,
   "id": "1057a5c9",
   "metadata": {},
   "outputs": [
    {
     "name": "stdout",
     "output_type": "stream",
     "text": [
      "0 \t1 \t2 \t3 \t4 \t"
     ]
    }
   ],
   "source": [
    "for i in range(0, 5, 1):   # 0 ~ 4까지 1씩 증가\n",
    "    print(i, '\\t', end='')"
   ]
  },
  {
   "cell_type": "code",
   "execution_count": 6,
   "id": "2c374402",
   "metadata": {},
   "outputs": [
    {
     "name": "stdout",
     "output_type": "stream",
     "text": [
      "0 \t2 \t4 \t"
     ]
    }
   ],
   "source": [
    "for i in range(0, 5, 2):\n",
    "    print(i, '\\t', end='')"
   ]
  },
  {
   "cell_type": "code",
   "execution_count": 7,
   "id": "18b55dd8",
   "metadata": {},
   "outputs": [
    {
     "name": "stdout",
     "output_type": "stream",
     "text": [
      "0 \t2 \t4 \t6 \t8 \t"
     ]
    }
   ],
   "source": [
    "for i in range(0, 10, 2):\n",
    "    print(i, '\\t', end='')"
   ]
  },
  {
   "cell_type": "code",
   "execution_count": 8,
   "id": "046fd375",
   "metadata": {},
   "outputs": [
    {
     "name": "stdout",
     "output_type": "stream",
     "text": [
      "10 \t8 \t6 \t4 \t2 \t"
     ]
    }
   ],
   "source": [
    "for i in range(10, 0, -2): # 10 ~ 1까지 -2씩 증가\n",
    "    print(i, '\\t', end='')"
   ]
  },
  {
   "cell_type": "code",
   "execution_count": 9,
   "id": "6cc21c96",
   "metadata": {},
   "outputs": [
    {
     "name": "stdout",
     "output_type": "stream",
     "text": [
      "5 \t9 \t2 \t7 \t52 \t12 \t"
     ]
    }
   ],
   "source": [
    "for i in [5, 9, 2, 7, 52, 12]: # 리스트의 갯수만큼 반복이 이루어짐\n",
    "    print(i, '\\t', end='')"
   ]
  },
  {
   "cell_type": "code",
   "execution_count": 10,
   "id": "455680f5",
   "metadata": {},
   "outputs": [
    {
     "name": "stdout",
     "output_type": "stream",
     "text": [
      "174\n"
     ]
    }
   ],
   "source": [
    "# 리스트의 원소 각각에 2를 곱한 값들의 합?\n",
    "\n",
    "result = 0\n",
    "for i in [5, 9, 2, 7, 52, 12]:\n",
    "    result = result + i*2\n",
    "    \n",
    "print(result)"
   ]
  },
  {
   "cell_type": "code",
   "execution_count": 11,
   "id": "57043652",
   "metadata": {},
   "outputs": [
    {
     "name": "stdout",
     "output_type": "stream",
     "text": [
      "10 \t28 \t32 \t46 \t150 \t174 \t"
     ]
    }
   ],
   "source": [
    "# 리스트의 원소 각각에 2를 곱한 값들의 합?\n",
    "\n",
    "result = 0\n",
    "for i in [5, 9, 2, 7, 52, 12]:\n",
    "    result = result + i*2\n",
    "    print(result, '\\t', end='') # 과정 출력"
   ]
  },
  {
   "cell_type": "markdown",
   "id": "bbf2a7bf",
   "metadata": {},
   "source": [
    "### if문"
   ]
  },
  {
   "cell_type": "code",
   "execution_count": 13,
   "id": "6e526ec9",
   "metadata": {},
   "outputs": [
    {
     "name": "stdout",
     "output_type": "stream",
     "text": [
      "숫자를 입력하세요: 2\n",
      "양수\n"
     ]
    }
   ],
   "source": [
    "a = int(input(\"숫자를 입력하세요: \"))\n",
    "if a>0:\n",
    "    print(\"양수\")\n",
    "elif a<0:\n",
    "    print(\"음수\")\n",
    "else:\n",
    "    print(\"0 이다\")"
   ]
  },
  {
   "cell_type": "code",
   "execution_count": null,
   "id": "c216b94d",
   "metadata": {},
   "outputs": [],
   "source": [
    "a=int(input('숫자를 입력하세요: '))\n",
    "if a%2==0 :\n",
    "    print(\"짝수\")\n",
    "else:\n",
    "    print('홀수')"
   ]
  },
  {
   "cell_type": "code",
   "execution_count": 14,
   "id": "d7259ede",
   "metadata": {},
   "outputs": [
    {
     "name": "stdout",
     "output_type": "stream",
     "text": [
      "숫자를 입력하세요: 5\n",
      "홀수\n"
     ]
    }
   ],
   "source": [
    "a=int(input('숫자를 입력하세요: '))\n",
    "if a%2!=1 :\n",
    "    print(\"짝수\")\n",
    "else:\n",
    "    print('홀수')"
   ]
  },
  {
   "cell_type": "markdown",
   "id": "e810fa72",
   "metadata": {},
   "source": [
    "### 함수 정의\n",
    "- def : 임의의 함수를 정의\n",
    "- 함수 인자의 값을 default 값으로 지정할 수 있다.\n",
    "   * 함수 호출 시에 인자 값을 주지 않으면 default 값으로 수행\n",
    "- 함수 수행 결과로 2개 이상의 값을 return하고자 할 때, tuple로 처리하면 편리 "
   ]
  },
  {
   "cell_type": "code",
   "execution_count": 18,
   "id": "635964f3",
   "metadata": {},
   "outputs": [],
   "source": [
    "# 특정 수를 입력받아서 1 ~ n까지의 합을 구하는 함수\n",
    "def CalHap(no):  # def 함수이름 (매개변수) :\n",
    "    result = 0\n",
    "    for i in range(1, no+1, 1):\n",
    "        result = result + i\n",
    "        print(result, \"\\t\", end='') # 함수 정의 - 1번만"
   ]
  },
  {
   "cell_type": "code",
   "execution_count": 24,
   "id": "24dbd130",
   "metadata": {},
   "outputs": [
    {
     "name": "stdout",
     "output_type": "stream",
     "text": [
      "1 \t3 \t6 \t10 \t15 \t"
     ]
    }
   ],
   "source": [
    "CalHap(5) # 함수 호출 - 여러번"
   ]
  },
  {
   "cell_type": "code",
   "execution_count": 25,
   "id": "fed0f3bd",
   "metadata": {},
   "outputs": [
    {
     "name": "stdout",
     "output_type": "stream",
     "text": [
      "1 \t3 \t6 \t10 \t15 \t21 \t28 \t36 \t45 \t55 \t"
     ]
    }
   ],
   "source": [
    "CalHap(10)"
   ]
  },
  {
   "cell_type": "code",
   "execution_count": 26,
   "id": "0f034766",
   "metadata": {},
   "outputs": [],
   "source": [
    "def CalHap2(no=10): # 디폴트 함수\n",
    "    result = 0\n",
    "    for i in range(1, no+1, 1):\n",
    "        result = result + i\n",
    "        print(result, \"\\t\", end='') "
   ]
  },
  {
   "cell_type": "code",
   "execution_count": 27,
   "id": "960cc1d9",
   "metadata": {},
   "outputs": [
    {
     "name": "stdout",
     "output_type": "stream",
     "text": [
      "1 \t3 \t6 \t10 \t15 \t21 \t28 \t36 \t45 \t55 \t"
     ]
    }
   ],
   "source": [
    "CalHap2() # 디폴트 함수: 매개변수 없어도 됨"
   ]
  },
  {
   "cell_type": "code",
   "execution_count": 28,
   "id": "f0aef272",
   "metadata": {},
   "outputs": [
    {
     "name": "stdout",
     "output_type": "stream",
     "text": [
      "1 \t3 \t6 \t10 \t15 \t21 \t28 \t36 \t45 \t55 \t66 \t78 \t91 \t105 \t120 \t136 \t153 \t171 \t190 \t210 \t"
     ]
    }
   ],
   "source": [
    "CalHap2(20) # 20으로 대체"
   ]
  },
  {
   "cell_type": "code",
   "execution_count": 30,
   "id": "d109e995",
   "metadata": {},
   "outputs": [],
   "source": [
    "def CalHap3(no=10): # 디폴트 함수\n",
    "    result = 0\n",
    "    for i in range(1, no+1, 1):\n",
    "        result = result + i\n",
    "        print(result, \"\\t\", end='') \n",
    "    return (result, '성공') # return: 함수를 호출한 곳으로 되돌아 가는 값"
   ]
  },
  {
   "cell_type": "code",
   "execution_count": 31,
   "id": "a40f9ef9",
   "metadata": {},
   "outputs": [
    {
     "name": "stdout",
     "output_type": "stream",
     "text": [
      "1 \t3 \t6 \t10 \t15 \t21 \t28 \t36 \t45 \t55 \t"
     ]
    },
    {
     "data": {
      "text/plain": [
       "(55, '성공')"
      ]
     },
     "execution_count": 31,
     "metadata": {},
     "output_type": "execute_result"
    }
   ],
   "source": [
    "CalHap3()"
   ]
  }
 ],
 "metadata": {
  "kernelspec": {
   "display_name": "Python 3 (ipykernel)",
   "language": "python",
   "name": "python3"
  },
  "language_info": {
   "codemirror_mode": {
    "name": "ipython",
    "version": 3
   },
   "file_extension": ".py",
   "mimetype": "text/x-python",
   "name": "python",
   "nbconvert_exporter": "python",
   "pygments_lexer": "ipython3",
   "version": "3.9.13"
  }
 },
 "nbformat": 4,
 "nbformat_minor": 5
}
