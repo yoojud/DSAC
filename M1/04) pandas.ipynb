{
 "cells": [
  {
   "cell_type": "markdown",
   "id": "8b60f304",
   "metadata": {},
   "source": [
    "### pandas\n",
    "- Python에서 data를 편리하게 다루기 위해 table(표) 구조로 처리하는 경우가 많다.\n",
    "- 이를 위해서 pandas 패키지를 사용\n",
    "   * pandas : panel data analysis (구조화된 데이터 분석)\n",
    "- DataFrame\n",
    "   * Excel의 spread sheet와 같은 2차원 table 구조로 data를 다룬다.\n",
    "   * 숫자, 문자열, 불리언 등의 임의의 type의 data를 담을 수 있다.\n",
    "   \n",
    "1) numpy와 List가 비슷한 점?\n",
    "\n",
    "- 대괄호 [1, 2, 3]에 의해 구성\n",
    "\n",
    "- 리스트 -> 넘파이\n",
    "\n",
    "\n",
    "2) numpy와 List가 다른 점?\n",
    "\n",
    "- numpy: 계산 가능 배열 (*배열: 계산O), 모든 원소는 숫자\n",
    "\n",
    "- List: 계산 불가 값의 나열, 문자숫자등등\n",
    "\n",
    "\n",
    "3) pandas와 딕셔너리\n",
    "\n",
    "- 딕셔너리에 의해서 판다스가 만들어짐\n",
    "\n",
    "- 딕셔너리: 키이름, value값으로 구성\n",
    "\n",
    "- pandas\n",
    "\n",
    "\n",
    "- 데이터프레임: 행과 열로 이루어진 2차원 표 --> 딕셔너리 이용\n",
    "- 시리즈: 행 또는 열 1개로만 이루어진 1차원 표 --> 딕셔너리 또는 리스트\n",
    "- 결측치 Nan: 특정 타임에 측정이 되지 않았거나 잘못된 값이 들어간 경우, 절대로 0이 아님"
   ]
  },
  {
   "cell_type": "code",
   "execution_count": 1,
   "id": "79d43f36",
   "metadata": {},
   "outputs": [],
   "source": [
    "import numpy as np\n",
    "import pandas as pd\n",
    "from numpy import *\n",
    "from pandas import *"
   ]
  },
  {
   "cell_type": "code",
   "execution_count": 2,
   "id": "06081bb1",
   "metadata": {},
   "outputs": [
    {
     "data": {
      "text/plain": [
       "a      서울\n",
       "b      부산\n",
       "가      대구\n",
       "d      대전\n",
       "500    광주\n",
       "dtype: object"
      ]
     },
     "execution_count": 2,
     "metadata": {},
     "output_type": "execute_result"
    }
   ],
   "source": [
    "region = Series(['서울', '부산', '대구', '대전', '광주'],\n",
    "               index = ['a', 'b', '가', 'd', '500']) ; region"
   ]
  },
  {
   "cell_type": "code",
   "execution_count": 3,
   "id": "edfcc76f",
   "metadata": {},
   "outputs": [
    {
     "data": {
      "text/plain": [
       "0    서울\n",
       "1    부산\n",
       "2    대구\n",
       "3    대전\n",
       "4    광주\n",
       "dtype: object"
      ]
     },
     "execution_count": 3,
     "metadata": {},
     "output_type": "execute_result"
    }
   ],
   "source": [
    "region1 = Series(['서울', '부산', '대구', '대전', '광주']) ; region1"
   ]
  },
  {
   "cell_type": "code",
   "execution_count": 4,
   "id": "8541ac64",
   "metadata": {},
   "outputs": [
    {
     "data": {
      "text/plain": [
       "a    서울\n",
       "b    부산\n",
       "c    대구\n",
       "d    대전\n",
       "e    광주\n",
       "dtype: object"
      ]
     },
     "execution_count": 4,
     "metadata": {},
     "output_type": "execute_result"
    }
   ],
   "source": [
    "region2 = Series(['서울', '부산', '대구', '대전', '광주'],\n",
    "               index = ['a', 'b', 'c', 'd', 'e']) ; region2"
   ]
  },
  {
   "cell_type": "code",
   "execution_count": 5,
   "id": "83d40ae6",
   "metadata": {},
   "outputs": [
    {
     "data": {
      "text/plain": [
       "city      서울\n",
       "year    2018\n",
       "dtype: object"
      ]
     },
     "execution_count": 5,
     "metadata": {},
     "output_type": "execute_result"
    }
   ],
   "source": [
    "dic2 = {'city' : '서울', 'year' : 2018}\n",
    "data2 = pd.Series(dic2) ; data2\n",
    "# key이름은 인덱스가 되고, value값은 행의 값이 된다."
   ]
  },
  {
   "cell_type": "code",
   "execution_count": 6,
   "id": "c42c1bbc",
   "metadata": {},
   "outputs": [
    {
     "data": {
      "text/plain": [
       "city      [서울]\n",
       "year    [2018]\n",
       "dtype: object"
      ]
     },
     "execution_count": 6,
     "metadata": {},
     "output_type": "execute_result"
    }
   ],
   "source": [
    "dic3 = {'city' : ['서울'], 'year' : [2018]}\n",
    "data3 = pd.Series(dic3) ; data3"
   ]
  },
  {
   "cell_type": "markdown",
   "id": "4bd56271",
   "metadata": {},
   "source": [
    "### DataFrame()\n",
    "- 딕셔너리 type의 data로부터 DataFrame을 만드는 예\n",
    "   * indexing 번호가 자동으로 부여(0부터 시작)"
   ]
  },
  {
   "cell_type": "code",
   "execution_count": 7,
   "id": "ad23e5cc",
   "metadata": {},
   "outputs": [
    {
     "data": {
      "text/html": [
       "<div>\n",
       "<style scoped>\n",
       "    .dataframe tbody tr th:only-of-type {\n",
       "        vertical-align: middle;\n",
       "    }\n",
       "\n",
       "    .dataframe tbody tr th {\n",
       "        vertical-align: top;\n",
       "    }\n",
       "\n",
       "    .dataframe thead th {\n",
       "        text-align: right;\n",
       "    }\n",
       "</style>\n",
       "<table border=\"1\" class=\"dataframe\">\n",
       "  <thead>\n",
       "    <tr style=\"text-align: right;\">\n",
       "      <th></th>\n",
       "      <th>city</th>\n",
       "      <th>year</th>\n",
       "    </tr>\n",
       "  </thead>\n",
       "  <tbody>\n",
       "    <tr>\n",
       "      <th>0</th>\n",
       "      <td>서울</td>\n",
       "      <td>2018</td>\n",
       "    </tr>\n",
       "  </tbody>\n",
       "</table>\n",
       "</div>"
      ],
      "text/plain": [
       "  city  year\n",
       "0   서울  2018"
      ]
     },
     "execution_count": 7,
     "metadata": {},
     "output_type": "execute_result"
    }
   ],
   "source": [
    "dic4 = {'city' : ['서울'], 'year' : [2018]}\n",
    "data4 = pd.DataFrame(dic4) ; data4"
   ]
  },
  {
   "cell_type": "code",
   "execution_count": 8,
   "id": "976d8b56",
   "metadata": {},
   "outputs": [
    {
     "data": {
      "text/html": [
       "<div>\n",
       "<style scoped>\n",
       "    .dataframe tbody tr th:only-of-type {\n",
       "        vertical-align: middle;\n",
       "    }\n",
       "\n",
       "    .dataframe tbody tr th {\n",
       "        vertical-align: top;\n",
       "    }\n",
       "\n",
       "    .dataframe thead th {\n",
       "        text-align: right;\n",
       "    }\n",
       "</style>\n",
       "<table border=\"1\" class=\"dataframe\">\n",
       "  <thead>\n",
       "    <tr style=\"text-align: right;\">\n",
       "      <th></th>\n",
       "      <th>city</th>\n",
       "      <th>year</th>\n",
       "      <th>temp</th>\n",
       "    </tr>\n",
       "  </thead>\n",
       "  <tbody>\n",
       "    <tr>\n",
       "      <th>0</th>\n",
       "      <td>서울</td>\n",
       "      <td>2017</td>\n",
       "      <td>18</td>\n",
       "    </tr>\n",
       "    <tr>\n",
       "      <th>1</th>\n",
       "      <td>부산</td>\n",
       "      <td>2017</td>\n",
       "      <td>20</td>\n",
       "    </tr>\n",
       "    <tr>\n",
       "      <th>2</th>\n",
       "      <td>대전</td>\n",
       "      <td>2018</td>\n",
       "      <td>19</td>\n",
       "    </tr>\n",
       "    <tr>\n",
       "      <th>3</th>\n",
       "      <td>대구</td>\n",
       "      <td>2018</td>\n",
       "      <td>21</td>\n",
       "    </tr>\n",
       "    <tr>\n",
       "      <th>4</th>\n",
       "      <td>광주</td>\n",
       "      <td>2018</td>\n",
       "      <td>20</td>\n",
       "    </tr>\n",
       "  </tbody>\n",
       "</table>\n",
       "</div>"
      ],
      "text/plain": [
       "  city  year  temp\n",
       "0   서울  2017    18\n",
       "1   부산  2017    20\n",
       "2   대전  2018    19\n",
       "3   대구  2018    21\n",
       "4   광주  2018    20"
      ]
     },
     "execution_count": 8,
     "metadata": {},
     "output_type": "execute_result"
    }
   ],
   "source": [
    "dic = {'city' : ['서울', '부산', '대전', '대구', '광주'],\n",
    "      'year' : [2017, 2017, 2018, 2018, 2018],\n",
    "      'temp' : [18, 20, 19, 21, 20]}\n",
    "data7 = pd.DataFrame(dic) ; data7"
   ]
  },
  {
   "cell_type": "code",
   "execution_count": 9,
   "id": "542d3777",
   "metadata": {},
   "outputs": [
    {
     "data": {
      "text/plain": [
       "city              [서울, 부산, 대전, 대구, 광주]\n",
       "year    [2017, 2017, 2018, 2018, 2018]\n",
       "temp              [18, 20, 19, 21, 20]\n",
       "dtype: object"
      ]
     },
     "execution_count": 9,
     "metadata": {},
     "output_type": "execute_result"
    }
   ],
   "source": [
    "dic = {'city' : ['서울', '부산', '대전', '대구', '광주'],\n",
    "      'year' : [2017, 2017, 2018, 2018, 2018],\n",
    "      'temp' : [18, 20, 19, 21, 20]}\n",
    "data6 = pd.Series(dic) ; data6"
   ]
  },
  {
   "cell_type": "code",
   "execution_count": 10,
   "id": "a711b3df",
   "metadata": {},
   "outputs": [
    {
     "data": {
      "text/plain": [
       "pandas.core.frame.DataFrame"
      ]
     },
     "execution_count": 10,
     "metadata": {},
     "output_type": "execute_result"
    }
   ],
   "source": [
    "type(data7)"
   ]
  },
  {
   "cell_type": "code",
   "execution_count": 11,
   "id": "12c07a71",
   "metadata": {},
   "outputs": [
    {
     "name": "stdout",
     "output_type": "stream",
     "text": [
      "0    서울\n",
      "1    부산\n",
      "2    대전\n",
      "3    대구\n",
      "4    광주\n",
      "Name: city, dtype: object\n"
     ]
    }
   ],
   "source": [
    "print(data7['city'])"
   ]
  },
  {
   "cell_type": "code",
   "execution_count": 12,
   "id": "c03033df",
   "metadata": {},
   "outputs": [
    {
     "data": {
      "text/plain": [
       "pandas.core.series.Series"
      ]
     },
     "execution_count": 12,
     "metadata": {},
     "output_type": "execute_result"
    }
   ],
   "source": [
    "a = data7['city'] # 1개 값 = Series\n",
    "type(a)"
   ]
  },
  {
   "cell_type": "code",
   "execution_count": 13,
   "id": "4b1d7e41",
   "metadata": {},
   "outputs": [
    {
     "name": "stdout",
     "output_type": "stream",
     "text": [
      "   year  temp\n",
      "0  2017    18\n",
      "1  2017    20\n",
      "2  2018    19\n",
      "3  2018    21\n",
      "4  2018    20\n"
     ]
    },
    {
     "data": {
      "text/plain": [
       "pandas.core.frame.DataFrame"
      ]
     },
     "execution_count": 13,
     "metadata": {},
     "output_type": "execute_result"
    }
   ],
   "source": [
    "b = data7[ ['year', 'temp'] ] # 2개 궁금하면 대괄호 2개 \n",
    "print(b)\n",
    "type(b) # 여러개 값 = DataFrame"
   ]
  },
  {
   "cell_type": "markdown",
   "id": "a78d18df",
   "metadata": {},
   "source": [
    "### 인덱스\n",
    "- index를 임의의 이름으로 지정할 수 있다."
   ]
  },
  {
   "cell_type": "code",
   "execution_count": 14,
   "id": "6bb6d545",
   "metadata": {},
   "outputs": [
    {
     "data": {
      "text/html": [
       "<div>\n",
       "<style scoped>\n",
       "    .dataframe tbody tr th:only-of-type {\n",
       "        vertical-align: middle;\n",
       "    }\n",
       "\n",
       "    .dataframe tbody tr th {\n",
       "        vertical-align: top;\n",
       "    }\n",
       "\n",
       "    .dataframe thead th {\n",
       "        text-align: right;\n",
       "    }\n",
       "</style>\n",
       "<table border=\"1\" class=\"dataframe\">\n",
       "  <thead>\n",
       "    <tr style=\"text-align: right;\">\n",
       "      <th></th>\n",
       "      <th>city</th>\n",
       "      <th>year</th>\n",
       "      <th>temp</th>\n",
       "    </tr>\n",
       "  </thead>\n",
       "  <tbody>\n",
       "    <tr>\n",
       "      <th>가</th>\n",
       "      <td>서울</td>\n",
       "      <td>2017</td>\n",
       "      <td>18</td>\n",
       "    </tr>\n",
       "    <tr>\n",
       "      <th>a</th>\n",
       "      <td>부산</td>\n",
       "      <td>2017</td>\n",
       "      <td>20</td>\n",
       "    </tr>\n",
       "    <tr>\n",
       "      <th>5.2</th>\n",
       "      <td>대전</td>\n",
       "      <td>2018</td>\n",
       "      <td>19</td>\n",
       "    </tr>\n",
       "    <tr>\n",
       "      <th>라</th>\n",
       "      <td>대구</td>\n",
       "      <td>2018</td>\n",
       "      <td>21</td>\n",
       "    </tr>\n",
       "    <tr>\n",
       "      <th>기린</th>\n",
       "      <td>광주</td>\n",
       "      <td>2018</td>\n",
       "      <td>20</td>\n",
       "    </tr>\n",
       "  </tbody>\n",
       "</table>\n",
       "</div>"
      ],
      "text/plain": [
       "    city  year  temp\n",
       "가     서울  2017    18\n",
       "a     부산  2017    20\n",
       "5.2   대전  2018    19\n",
       "라     대구  2018    21\n",
       "기린    광주  2018    20"
      ]
     },
     "execution_count": 14,
     "metadata": {},
     "output_type": "execute_result"
    }
   ],
   "source": [
    "data7.index = ['가', 'a', 5.2, '라', '기린'] ; data7"
   ]
  },
  {
   "cell_type": "code",
   "execution_count": 15,
   "id": "db1bb7d0",
   "metadata": {},
   "outputs": [
    {
     "data": {
      "text/html": [
       "<div>\n",
       "<style scoped>\n",
       "    .dataframe tbody tr th:only-of-type {\n",
       "        vertical-align: middle;\n",
       "    }\n",
       "\n",
       "    .dataframe tbody tr th {\n",
       "        vertical-align: top;\n",
       "    }\n",
       "\n",
       "    .dataframe thead th {\n",
       "        text-align: right;\n",
       "    }\n",
       "</style>\n",
       "<table border=\"1\" class=\"dataframe\">\n",
       "  <thead>\n",
       "    <tr style=\"text-align: right;\">\n",
       "      <th></th>\n",
       "      <th>도시</th>\n",
       "      <th>연도</th>\n",
       "      <th>날씨</th>\n",
       "    </tr>\n",
       "  </thead>\n",
       "  <tbody>\n",
       "    <tr>\n",
       "      <th>가</th>\n",
       "      <td>서울</td>\n",
       "      <td>2017</td>\n",
       "      <td>18</td>\n",
       "    </tr>\n",
       "    <tr>\n",
       "      <th>a</th>\n",
       "      <td>부산</td>\n",
       "      <td>2017</td>\n",
       "      <td>20</td>\n",
       "    </tr>\n",
       "    <tr>\n",
       "      <th>5.2</th>\n",
       "      <td>대전</td>\n",
       "      <td>2018</td>\n",
       "      <td>19</td>\n",
       "    </tr>\n",
       "    <tr>\n",
       "      <th>라</th>\n",
       "      <td>대구</td>\n",
       "      <td>2018</td>\n",
       "      <td>21</td>\n",
       "    </tr>\n",
       "    <tr>\n",
       "      <th>기린</th>\n",
       "      <td>광주</td>\n",
       "      <td>2018</td>\n",
       "      <td>20</td>\n",
       "    </tr>\n",
       "  </tbody>\n",
       "</table>\n",
       "</div>"
      ],
      "text/plain": [
       "     도시    연도  날씨\n",
       "가    서울  2017  18\n",
       "a    부산  2017  20\n",
       "5.2  대전  2018  19\n",
       "라    대구  2018  21\n",
       "기린   광주  2018  20"
      ]
     },
     "execution_count": 15,
     "metadata": {},
     "output_type": "execute_result"
    }
   ],
   "source": [
    "data7.columns = ['도시', '연도', '날씨'] ; data7 # column 이름 바꿈"
   ]
  },
  {
   "cell_type": "markdown",
   "id": "3768c9df",
   "metadata": {},
   "source": [
    "- DataFrame에서 특정 column(열)의 내용만 얻으려고 할 경우\n",
    "   * column(row) 명으로 접근 : data['연도']\n",
    "   * 속성 값으로 접근 : data.연도"
   ]
  },
  {
   "cell_type": "code",
   "execution_count": 16,
   "id": "c6e9dc2b",
   "metadata": {},
   "outputs": [
    {
     "data": {
      "text/plain": [
       "가      서울\n",
       "a      부산\n",
       "5.2    대전\n",
       "라      대구\n",
       "기린     광주\n",
       "Name: 도시, dtype: object"
      ]
     },
     "execution_count": 16,
     "metadata": {},
     "output_type": "execute_result"
    }
   ],
   "source": [
    "data7['도시']"
   ]
  },
  {
   "cell_type": "code",
   "execution_count": 17,
   "id": "64ceace5",
   "metadata": {},
   "outputs": [
    {
     "data": {
      "text/html": [
       "<div>\n",
       "<style scoped>\n",
       "    .dataframe tbody tr th:only-of-type {\n",
       "        vertical-align: middle;\n",
       "    }\n",
       "\n",
       "    .dataframe tbody tr th {\n",
       "        vertical-align: top;\n",
       "    }\n",
       "\n",
       "    .dataframe thead th {\n",
       "        text-align: right;\n",
       "    }\n",
       "</style>\n",
       "<table border=\"1\" class=\"dataframe\">\n",
       "  <thead>\n",
       "    <tr style=\"text-align: right;\">\n",
       "      <th></th>\n",
       "      <th>도시</th>\n",
       "      <th>날씨</th>\n",
       "    </tr>\n",
       "  </thead>\n",
       "  <tbody>\n",
       "    <tr>\n",
       "      <th>가</th>\n",
       "      <td>서울</td>\n",
       "      <td>18</td>\n",
       "    </tr>\n",
       "    <tr>\n",
       "      <th>a</th>\n",
       "      <td>부산</td>\n",
       "      <td>20</td>\n",
       "    </tr>\n",
       "    <tr>\n",
       "      <th>5.2</th>\n",
       "      <td>대전</td>\n",
       "      <td>19</td>\n",
       "    </tr>\n",
       "    <tr>\n",
       "      <th>라</th>\n",
       "      <td>대구</td>\n",
       "      <td>21</td>\n",
       "    </tr>\n",
       "    <tr>\n",
       "      <th>기린</th>\n",
       "      <td>광주</td>\n",
       "      <td>20</td>\n",
       "    </tr>\n",
       "  </tbody>\n",
       "</table>\n",
       "</div>"
      ],
      "text/plain": [
       "     도시  날씨\n",
       "가    서울  18\n",
       "a    부산  20\n",
       "5.2  대전  19\n",
       "라    대구  21\n",
       "기린   광주  20"
      ]
     },
     "execution_count": 17,
     "metadata": {},
     "output_type": "execute_result"
    }
   ],
   "source": [
    "data7[ ['도시', '날씨'] ]"
   ]
  },
  {
   "cell_type": "code",
   "execution_count": 18,
   "id": "038a966a",
   "metadata": {},
   "outputs": [
    {
     "data": {
      "text/plain": [
       "가      서울\n",
       "a      부산\n",
       "5.2    대전\n",
       "라      대구\n",
       "기린     광주\n",
       "Name: 도시, dtype: object"
      ]
     },
     "execution_count": 18,
     "metadata": {},
     "output_type": "execute_result"
    }
   ],
   "source": [
    "data7.도시"
   ]
  },
  {
   "cell_type": "markdown",
   "id": "b2f80eca",
   "metadata": {},
   "source": [
    "- DataFrame에서 특정 row(행)의 내용만 얻으려고 할 경우\n",
    "   * index를 사용하는 방법 : data.loc['b']\n",
    "   * index가 아닌 행의 위치를 지정하는 방법 : data.iloc[1:3]"
   ]
  },
  {
   "cell_type": "code",
   "execution_count": 19,
   "id": "89268433",
   "metadata": {},
   "outputs": [
    {
     "data": {
      "text/html": [
       "<div>\n",
       "<style scoped>\n",
       "    .dataframe tbody tr th:only-of-type {\n",
       "        vertical-align: middle;\n",
       "    }\n",
       "\n",
       "    .dataframe tbody tr th {\n",
       "        vertical-align: top;\n",
       "    }\n",
       "\n",
       "    .dataframe thead th {\n",
       "        text-align: right;\n",
       "    }\n",
       "</style>\n",
       "<table border=\"1\" class=\"dataframe\">\n",
       "  <thead>\n",
       "    <tr style=\"text-align: right;\">\n",
       "      <th></th>\n",
       "      <th>도시</th>\n",
       "      <th>연도</th>\n",
       "      <th>날씨</th>\n",
       "    </tr>\n",
       "  </thead>\n",
       "  <tbody>\n",
       "    <tr>\n",
       "      <th>가</th>\n",
       "      <td>서울</td>\n",
       "      <td>2017</td>\n",
       "      <td>18</td>\n",
       "    </tr>\n",
       "    <tr>\n",
       "      <th>a</th>\n",
       "      <td>부산</td>\n",
       "      <td>2017</td>\n",
       "      <td>20</td>\n",
       "    </tr>\n",
       "    <tr>\n",
       "      <th>5.2</th>\n",
       "      <td>대전</td>\n",
       "      <td>2018</td>\n",
       "      <td>19</td>\n",
       "    </tr>\n",
       "    <tr>\n",
       "      <th>라</th>\n",
       "      <td>대구</td>\n",
       "      <td>2018</td>\n",
       "      <td>21</td>\n",
       "    </tr>\n",
       "    <tr>\n",
       "      <th>기린</th>\n",
       "      <td>광주</td>\n",
       "      <td>2018</td>\n",
       "      <td>20</td>\n",
       "    </tr>\n",
       "  </tbody>\n",
       "</table>\n",
       "</div>"
      ],
      "text/plain": [
       "     도시    연도  날씨\n",
       "가    서울  2017  18\n",
       "a    부산  2017  20\n",
       "5.2  대전  2018  19\n",
       "라    대구  2018  21\n",
       "기린   광주  2018  20"
      ]
     },
     "execution_count": 19,
     "metadata": {},
     "output_type": "execute_result"
    }
   ],
   "source": [
    "data7"
   ]
  },
  {
   "cell_type": "code",
   "execution_count": 20,
   "id": "2f3a38fc",
   "metadata": {},
   "outputs": [
    {
     "data": {
      "text/plain": [
       "도시      광주\n",
       "연도    2018\n",
       "날씨      20\n",
       "Name: 기린, dtype: object"
      ]
     },
     "execution_count": 20,
     "metadata": {},
     "output_type": "execute_result"
    }
   ],
   "source": [
    "data7.loc['기린']"
   ]
  },
  {
   "cell_type": "code",
   "execution_count": 21,
   "id": "ff270c9f",
   "metadata": {},
   "outputs": [
    {
     "data": {
      "text/plain": [
       "도시      대전\n",
       "연도    2018\n",
       "날씨      19\n",
       "Name: 5.2, dtype: object"
      ]
     },
     "execution_count": 21,
     "metadata": {},
     "output_type": "execute_result"
    }
   ],
   "source": [
    "data7.loc[5.2]"
   ]
  },
  {
   "cell_type": "code",
   "execution_count": 22,
   "id": "1262e005",
   "metadata": {},
   "outputs": [
    {
     "data": {
      "text/html": [
       "<div>\n",
       "<style scoped>\n",
       "    .dataframe tbody tr th:only-of-type {\n",
       "        vertical-align: middle;\n",
       "    }\n",
       "\n",
       "    .dataframe tbody tr th {\n",
       "        vertical-align: top;\n",
       "    }\n",
       "\n",
       "    .dataframe thead th {\n",
       "        text-align: right;\n",
       "    }\n",
       "</style>\n",
       "<table border=\"1\" class=\"dataframe\">\n",
       "  <thead>\n",
       "    <tr style=\"text-align: right;\">\n",
       "      <th></th>\n",
       "      <th>도시</th>\n",
       "      <th>연도</th>\n",
       "      <th>날씨</th>\n",
       "    </tr>\n",
       "  </thead>\n",
       "  <tbody>\n",
       "    <tr>\n",
       "      <th>a</th>\n",
       "      <td>부산</td>\n",
       "      <td>2017</td>\n",
       "      <td>20</td>\n",
       "    </tr>\n",
       "    <tr>\n",
       "      <th>5.2</th>\n",
       "      <td>대전</td>\n",
       "      <td>2018</td>\n",
       "      <td>19</td>\n",
       "    </tr>\n",
       "  </tbody>\n",
       "</table>\n",
       "</div>"
      ],
      "text/plain": [
       "     도시    연도  날씨\n",
       "a    부산  2017  20\n",
       "5.2  대전  2018  19"
      ]
     },
     "execution_count": 22,
     "metadata": {},
     "output_type": "execute_result"
    }
   ],
   "source": [
    "data7.iloc[1:3]"
   ]
  },
  {
   "cell_type": "markdown",
   "id": "85b6975a",
   "metadata": {},
   "source": [
    "- index를 임의의 column으로 재배정\n",
    "   * 대상 object(객체) 자체의 변경 : inplace=True 명시해야 함"
   ]
  },
  {
   "cell_type": "code",
   "execution_count": 23,
   "id": "faa016c4",
   "metadata": {},
   "outputs": [
    {
     "data": {
      "text/html": [
       "<div>\n",
       "<style scoped>\n",
       "    .dataframe tbody tr th:only-of-type {\n",
       "        vertical-align: middle;\n",
       "    }\n",
       "\n",
       "    .dataframe tbody tr th {\n",
       "        vertical-align: top;\n",
       "    }\n",
       "\n",
       "    .dataframe thead th {\n",
       "        text-align: right;\n",
       "    }\n",
       "</style>\n",
       "<table border=\"1\" class=\"dataframe\">\n",
       "  <thead>\n",
       "    <tr style=\"text-align: right;\">\n",
       "      <th></th>\n",
       "      <th>연도</th>\n",
       "      <th>날씨</th>\n",
       "    </tr>\n",
       "    <tr>\n",
       "      <th>도시</th>\n",
       "      <th></th>\n",
       "      <th></th>\n",
       "    </tr>\n",
       "  </thead>\n",
       "  <tbody>\n",
       "    <tr>\n",
       "      <th>서울</th>\n",
       "      <td>2017</td>\n",
       "      <td>18</td>\n",
       "    </tr>\n",
       "    <tr>\n",
       "      <th>부산</th>\n",
       "      <td>2017</td>\n",
       "      <td>20</td>\n",
       "    </tr>\n",
       "    <tr>\n",
       "      <th>대전</th>\n",
       "      <td>2018</td>\n",
       "      <td>19</td>\n",
       "    </tr>\n",
       "    <tr>\n",
       "      <th>대구</th>\n",
       "      <td>2018</td>\n",
       "      <td>21</td>\n",
       "    </tr>\n",
       "    <tr>\n",
       "      <th>광주</th>\n",
       "      <td>2018</td>\n",
       "      <td>20</td>\n",
       "    </tr>\n",
       "  </tbody>\n",
       "</table>\n",
       "</div>"
      ],
      "text/plain": [
       "      연도  날씨\n",
       "도시          \n",
       "서울  2017  18\n",
       "부산  2017  20\n",
       "대전  2018  19\n",
       "대구  2018  21\n",
       "광주  2018  20"
      ]
     },
     "execution_count": 23,
     "metadata": {},
     "output_type": "execute_result"
    }
   ],
   "source": [
    "data7.set_index('도시') # 도시를 인덱스로"
   ]
  },
  {
   "cell_type": "code",
   "execution_count": 24,
   "id": "d8b287b9",
   "metadata": {},
   "outputs": [
    {
     "data": {
      "text/html": [
       "<div>\n",
       "<style scoped>\n",
       "    .dataframe tbody tr th:only-of-type {\n",
       "        vertical-align: middle;\n",
       "    }\n",
       "\n",
       "    .dataframe tbody tr th {\n",
       "        vertical-align: top;\n",
       "    }\n",
       "\n",
       "    .dataframe thead th {\n",
       "        text-align: right;\n",
       "    }\n",
       "</style>\n",
       "<table border=\"1\" class=\"dataframe\">\n",
       "  <thead>\n",
       "    <tr style=\"text-align: right;\">\n",
       "      <th></th>\n",
       "      <th>도시</th>\n",
       "      <th>연도</th>\n",
       "      <th>날씨</th>\n",
       "    </tr>\n",
       "  </thead>\n",
       "  <tbody>\n",
       "    <tr>\n",
       "      <th>가</th>\n",
       "      <td>서울</td>\n",
       "      <td>2017</td>\n",
       "      <td>18</td>\n",
       "    </tr>\n",
       "    <tr>\n",
       "      <th>a</th>\n",
       "      <td>부산</td>\n",
       "      <td>2017</td>\n",
       "      <td>20</td>\n",
       "    </tr>\n",
       "    <tr>\n",
       "      <th>5.2</th>\n",
       "      <td>대전</td>\n",
       "      <td>2018</td>\n",
       "      <td>19</td>\n",
       "    </tr>\n",
       "    <tr>\n",
       "      <th>라</th>\n",
       "      <td>대구</td>\n",
       "      <td>2018</td>\n",
       "      <td>21</td>\n",
       "    </tr>\n",
       "    <tr>\n",
       "      <th>기린</th>\n",
       "      <td>광주</td>\n",
       "      <td>2018</td>\n",
       "      <td>20</td>\n",
       "    </tr>\n",
       "  </tbody>\n",
       "</table>\n",
       "</div>"
      ],
      "text/plain": [
       "     도시    연도  날씨\n",
       "가    서울  2017  18\n",
       "a    부산  2017  20\n",
       "5.2  대전  2018  19\n",
       "라    대구  2018  21\n",
       "기린   광주  2018  20"
      ]
     },
     "execution_count": 24,
     "metadata": {},
     "output_type": "execute_result"
    }
   ],
   "source": [
    "data7 # 변경 안 됨, pandas 원본 변경X"
   ]
  },
  {
   "cell_type": "code",
   "execution_count": 25,
   "id": "467ab497",
   "metadata": {},
   "outputs": [
    {
     "data": {
      "text/html": [
       "<div>\n",
       "<style scoped>\n",
       "    .dataframe tbody tr th:only-of-type {\n",
       "        vertical-align: middle;\n",
       "    }\n",
       "\n",
       "    .dataframe tbody tr th {\n",
       "        vertical-align: top;\n",
       "    }\n",
       "\n",
       "    .dataframe thead th {\n",
       "        text-align: right;\n",
       "    }\n",
       "</style>\n",
       "<table border=\"1\" class=\"dataframe\">\n",
       "  <thead>\n",
       "    <tr style=\"text-align: right;\">\n",
       "      <th></th>\n",
       "      <th>도시</th>\n",
       "      <th>연도</th>\n",
       "      <th>날씨</th>\n",
       "    </tr>\n",
       "  </thead>\n",
       "  <tbody>\n",
       "    <tr>\n",
       "      <th>가</th>\n",
       "      <td>서울</td>\n",
       "      <td>2017</td>\n",
       "      <td>18</td>\n",
       "    </tr>\n",
       "    <tr>\n",
       "      <th>a</th>\n",
       "      <td>부산</td>\n",
       "      <td>2017</td>\n",
       "      <td>20</td>\n",
       "    </tr>\n",
       "    <tr>\n",
       "      <th>5.2</th>\n",
       "      <td>대전</td>\n",
       "      <td>2018</td>\n",
       "      <td>19</td>\n",
       "    </tr>\n",
       "    <tr>\n",
       "      <th>라</th>\n",
       "      <td>대구</td>\n",
       "      <td>2018</td>\n",
       "      <td>21</td>\n",
       "    </tr>\n",
       "    <tr>\n",
       "      <th>기린</th>\n",
       "      <td>광주</td>\n",
       "      <td>2018</td>\n",
       "      <td>20</td>\n",
       "    </tr>\n",
       "  </tbody>\n",
       "</table>\n",
       "</div>"
      ],
      "text/plain": [
       "     도시    연도  날씨\n",
       "가    서울  2017  18\n",
       "a    부산  2017  20\n",
       "5.2  대전  2018  19\n",
       "라    대구  2018  21\n",
       "기린   광주  2018  20"
      ]
     },
     "execution_count": 25,
     "metadata": {},
     "output_type": "execute_result"
    }
   ],
   "source": [
    "data7"
   ]
  },
  {
   "cell_type": "code",
   "execution_count": 26,
   "id": "c3cf800c",
   "metadata": {},
   "outputs": [
    {
     "data": {
      "text/html": [
       "<div>\n",
       "<style scoped>\n",
       "    .dataframe tbody tr th:only-of-type {\n",
       "        vertical-align: middle;\n",
       "    }\n",
       "\n",
       "    .dataframe tbody tr th {\n",
       "        vertical-align: top;\n",
       "    }\n",
       "\n",
       "    .dataframe thead th {\n",
       "        text-align: right;\n",
       "    }\n",
       "</style>\n",
       "<table border=\"1\" class=\"dataframe\">\n",
       "  <thead>\n",
       "    <tr style=\"text-align: right;\">\n",
       "      <th></th>\n",
       "      <th>연도</th>\n",
       "      <th>날씨</th>\n",
       "    </tr>\n",
       "    <tr>\n",
       "      <th>도시</th>\n",
       "      <th></th>\n",
       "      <th></th>\n",
       "    </tr>\n",
       "  </thead>\n",
       "  <tbody>\n",
       "    <tr>\n",
       "      <th>서울</th>\n",
       "      <td>2017</td>\n",
       "      <td>18</td>\n",
       "    </tr>\n",
       "    <tr>\n",
       "      <th>부산</th>\n",
       "      <td>2017</td>\n",
       "      <td>20</td>\n",
       "    </tr>\n",
       "    <tr>\n",
       "      <th>대전</th>\n",
       "      <td>2018</td>\n",
       "      <td>19</td>\n",
       "    </tr>\n",
       "    <tr>\n",
       "      <th>대구</th>\n",
       "      <td>2018</td>\n",
       "      <td>21</td>\n",
       "    </tr>\n",
       "    <tr>\n",
       "      <th>광주</th>\n",
       "      <td>2018</td>\n",
       "      <td>20</td>\n",
       "    </tr>\n",
       "  </tbody>\n",
       "</table>\n",
       "</div>"
      ],
      "text/plain": [
       "      연도  날씨\n",
       "도시          \n",
       "서울  2017  18\n",
       "부산  2017  20\n",
       "대전  2018  19\n",
       "대구  2018  21\n",
       "광주  2018  20"
      ]
     },
     "execution_count": 26,
     "metadata": {},
     "output_type": "execute_result"
    }
   ],
   "source": [
    "data8 = data7.set_index('도시') # 이렇게 해야 변경 됨\n",
    "data8"
   ]
  },
  {
   "cell_type": "code",
   "execution_count": 27,
   "id": "13ba9956",
   "metadata": {},
   "outputs": [
    {
     "data": {
      "text/html": [
       "<div>\n",
       "<style scoped>\n",
       "    .dataframe tbody tr th:only-of-type {\n",
       "        vertical-align: middle;\n",
       "    }\n",
       "\n",
       "    .dataframe tbody tr th {\n",
       "        vertical-align: top;\n",
       "    }\n",
       "\n",
       "    .dataframe thead th {\n",
       "        text-align: right;\n",
       "    }\n",
       "</style>\n",
       "<table border=\"1\" class=\"dataframe\">\n",
       "  <thead>\n",
       "    <tr style=\"text-align: right;\">\n",
       "      <th></th>\n",
       "      <th>연도</th>\n",
       "      <th>날씨</th>\n",
       "    </tr>\n",
       "    <tr>\n",
       "      <th>도시</th>\n",
       "      <th></th>\n",
       "      <th></th>\n",
       "    </tr>\n",
       "  </thead>\n",
       "  <tbody>\n",
       "    <tr>\n",
       "      <th>서울</th>\n",
       "      <td>2017</td>\n",
       "      <td>18</td>\n",
       "    </tr>\n",
       "    <tr>\n",
       "      <th>부산</th>\n",
       "      <td>2017</td>\n",
       "      <td>20</td>\n",
       "    </tr>\n",
       "    <tr>\n",
       "      <th>대전</th>\n",
       "      <td>2018</td>\n",
       "      <td>19</td>\n",
       "    </tr>\n",
       "    <tr>\n",
       "      <th>대구</th>\n",
       "      <td>2018</td>\n",
       "      <td>21</td>\n",
       "    </tr>\n",
       "    <tr>\n",
       "      <th>광주</th>\n",
       "      <td>2018</td>\n",
       "      <td>20</td>\n",
       "    </tr>\n",
       "  </tbody>\n",
       "</table>\n",
       "</div>"
      ],
      "text/plain": [
       "      연도  날씨\n",
       "도시          \n",
       "서울  2017  18\n",
       "부산  2017  20\n",
       "대전  2018  19\n",
       "대구  2018  21\n",
       "광주  2018  20"
      ]
     },
     "execution_count": 27,
     "metadata": {},
     "output_type": "execute_result"
    }
   ],
   "source": [
    "data7.set_index('도시', inplace = True) # 인덱스 바꿈\n",
    "data7"
   ]
  },
  {
   "cell_type": "code",
   "execution_count": 28,
   "id": "f50b2342",
   "metadata": {},
   "outputs": [
    {
     "data": {
      "text/plain": [
       "연도    2018\n",
       "날씨      19\n",
       "Name: 대전, dtype: int64"
      ]
     },
     "execution_count": 28,
     "metadata": {},
     "output_type": "execute_result"
    }
   ],
   "source": [
    "data7.loc['대전']"
   ]
  },
  {
   "cell_type": "code",
   "execution_count": 29,
   "id": "ef72b9f5",
   "metadata": {},
   "outputs": [
    {
     "data": {
      "text/html": [
       "<div>\n",
       "<style scoped>\n",
       "    .dataframe tbody tr th:only-of-type {\n",
       "        vertical-align: middle;\n",
       "    }\n",
       "\n",
       "    .dataframe tbody tr th {\n",
       "        vertical-align: top;\n",
       "    }\n",
       "\n",
       "    .dataframe thead th {\n",
       "        text-align: right;\n",
       "    }\n",
       "</style>\n",
       "<table border=\"1\" class=\"dataframe\">\n",
       "  <thead>\n",
       "    <tr style=\"text-align: right;\">\n",
       "      <th></th>\n",
       "      <th>연도</th>\n",
       "      <th>날씨</th>\n",
       "    </tr>\n",
       "    <tr>\n",
       "      <th>도시</th>\n",
       "      <th></th>\n",
       "      <th></th>\n",
       "    </tr>\n",
       "  </thead>\n",
       "  <tbody>\n",
       "    <tr>\n",
       "      <th>부산</th>\n",
       "      <td>2017</td>\n",
       "      <td>20</td>\n",
       "    </tr>\n",
       "    <tr>\n",
       "      <th>대전</th>\n",
       "      <td>2018</td>\n",
       "      <td>19</td>\n",
       "    </tr>\n",
       "    <tr>\n",
       "      <th>대구</th>\n",
       "      <td>2018</td>\n",
       "      <td>21</td>\n",
       "    </tr>\n",
       "  </tbody>\n",
       "</table>\n",
       "</div>"
      ],
      "text/plain": [
       "      연도  날씨\n",
       "도시          \n",
       "부산  2017  20\n",
       "대전  2018  19\n",
       "대구  2018  21"
      ]
     },
     "execution_count": 29,
     "metadata": {},
     "output_type": "execute_result"
    }
   ],
   "source": [
    "data7.iloc[1:4]"
   ]
  },
  {
   "cell_type": "markdown",
   "id": "c46ae7ac",
   "metadata": {},
   "source": [
    "### Column 추가\n",
    "- 대상 object(객체)에 현재 없는 column 명을 인자로 주면 자동으로 새로운 column이 생성"
   ]
  },
  {
   "cell_type": "code",
   "execution_count": 30,
   "id": "1ed36524",
   "metadata": {},
   "outputs": [
    {
     "data": {
      "text/html": [
       "<div>\n",
       "<style scoped>\n",
       "    .dataframe tbody tr th:only-of-type {\n",
       "        vertical-align: middle;\n",
       "    }\n",
       "\n",
       "    .dataframe tbody tr th {\n",
       "        vertical-align: top;\n",
       "    }\n",
       "\n",
       "    .dataframe thead th {\n",
       "        text-align: right;\n",
       "    }\n",
       "</style>\n",
       "<table border=\"1\" class=\"dataframe\">\n",
       "  <thead>\n",
       "    <tr style=\"text-align: right;\">\n",
       "      <th></th>\n",
       "      <th>연도</th>\n",
       "      <th>날씨</th>\n",
       "      <th>car</th>\n",
       "    </tr>\n",
       "    <tr>\n",
       "      <th>도시</th>\n",
       "      <th></th>\n",
       "      <th></th>\n",
       "      <th></th>\n",
       "    </tr>\n",
       "  </thead>\n",
       "  <tbody>\n",
       "    <tr>\n",
       "      <th>서울</th>\n",
       "      <td>2017</td>\n",
       "      <td>18</td>\n",
       "      <td>50</td>\n",
       "    </tr>\n",
       "    <tr>\n",
       "      <th>부산</th>\n",
       "      <td>2017</td>\n",
       "      <td>20</td>\n",
       "      <td>40</td>\n",
       "    </tr>\n",
       "    <tr>\n",
       "      <th>대전</th>\n",
       "      <td>2018</td>\n",
       "      <td>19</td>\n",
       "      <td>20</td>\n",
       "    </tr>\n",
       "    <tr>\n",
       "      <th>대구</th>\n",
       "      <td>2018</td>\n",
       "      <td>21</td>\n",
       "      <td>30</td>\n",
       "    </tr>\n",
       "    <tr>\n",
       "      <th>광주</th>\n",
       "      <td>2018</td>\n",
       "      <td>20</td>\n",
       "      <td>10</td>\n",
       "    </tr>\n",
       "  </tbody>\n",
       "</table>\n",
       "</div>"
      ],
      "text/plain": [
       "      연도  날씨  car\n",
       "도시               \n",
       "서울  2017  18   50\n",
       "부산  2017  20   40\n",
       "대전  2018  19   20\n",
       "대구  2018  21   30\n",
       "광주  2018  20   10"
      ]
     },
     "execution_count": 30,
     "metadata": {},
     "output_type": "execute_result"
    }
   ],
   "source": [
    "cars = [50, 40, 20, 30, 10] # 리스트 생성\n",
    "data7['car'] = cars         # car 열에 cars 값 추가\n",
    "data7"
   ]
  },
  {
   "cell_type": "code",
   "execution_count": 31,
   "id": "73da6701",
   "metadata": {},
   "outputs": [
    {
     "data": {
      "text/html": [
       "<div>\n",
       "<style scoped>\n",
       "    .dataframe tbody tr th:only-of-type {\n",
       "        vertical-align: middle;\n",
       "    }\n",
       "\n",
       "    .dataframe tbody tr th {\n",
       "        vertical-align: top;\n",
       "    }\n",
       "\n",
       "    .dataframe thead th {\n",
       "        text-align: right;\n",
       "    }\n",
       "</style>\n",
       "<table border=\"1\" class=\"dataframe\">\n",
       "  <thead>\n",
       "    <tr style=\"text-align: right;\">\n",
       "      <th></th>\n",
       "      <th>연도</th>\n",
       "      <th>날씨</th>\n",
       "      <th>car</th>\n",
       "      <th>high1</th>\n",
       "    </tr>\n",
       "    <tr>\n",
       "      <th>도시</th>\n",
       "      <th></th>\n",
       "      <th></th>\n",
       "      <th></th>\n",
       "      <th></th>\n",
       "    </tr>\n",
       "  </thead>\n",
       "  <tbody>\n",
       "    <tr>\n",
       "      <th>서울</th>\n",
       "      <td>2017</td>\n",
       "      <td>18</td>\n",
       "      <td>50</td>\n",
       "      <td>True</td>\n",
       "    </tr>\n",
       "    <tr>\n",
       "      <th>부산</th>\n",
       "      <td>2017</td>\n",
       "      <td>20</td>\n",
       "      <td>40</td>\n",
       "      <td>True</td>\n",
       "    </tr>\n",
       "    <tr>\n",
       "      <th>대전</th>\n",
       "      <td>2018</td>\n",
       "      <td>19</td>\n",
       "      <td>20</td>\n",
       "      <td>False</td>\n",
       "    </tr>\n",
       "    <tr>\n",
       "      <th>대구</th>\n",
       "      <td>2018</td>\n",
       "      <td>21</td>\n",
       "      <td>30</td>\n",
       "      <td>True</td>\n",
       "    </tr>\n",
       "    <tr>\n",
       "      <th>광주</th>\n",
       "      <td>2018</td>\n",
       "      <td>20</td>\n",
       "      <td>10</td>\n",
       "      <td>False</td>\n",
       "    </tr>\n",
       "  </tbody>\n",
       "</table>\n",
       "</div>"
      ],
      "text/plain": [
       "      연도  날씨  car  high1\n",
       "도시                      \n",
       "서울  2017  18   50   True\n",
       "부산  2017  20   40   True\n",
       "대전  2018  19   20  False\n",
       "대구  2018  21   30   True\n",
       "광주  2018  20   10  False"
      ]
     },
     "execution_count": 31,
     "metadata": {},
     "output_type": "execute_result"
    }
   ],
   "source": [
    "data7['high1'] = data7.car >= 30 ; data7"
   ]
  },
  {
   "cell_type": "code",
   "execution_count": 32,
   "id": "a4a2f20e",
   "metadata": {},
   "outputs": [
    {
     "data": {
      "text/html": [
       "<div>\n",
       "<style scoped>\n",
       "    .dataframe tbody tr th:only-of-type {\n",
       "        vertical-align: middle;\n",
       "    }\n",
       "\n",
       "    .dataframe tbody tr th {\n",
       "        vertical-align: top;\n",
       "    }\n",
       "\n",
       "    .dataframe thead th {\n",
       "        text-align: right;\n",
       "    }\n",
       "</style>\n",
       "<table border=\"1\" class=\"dataframe\">\n",
       "  <thead>\n",
       "    <tr style=\"text-align: right;\">\n",
       "      <th></th>\n",
       "      <th>연도</th>\n",
       "      <th>날씨</th>\n",
       "      <th>car</th>\n",
       "      <th>high1</th>\n",
       "      <th>high2</th>\n",
       "    </tr>\n",
       "    <tr>\n",
       "      <th>도시</th>\n",
       "      <th></th>\n",
       "      <th></th>\n",
       "      <th></th>\n",
       "      <th></th>\n",
       "      <th></th>\n",
       "    </tr>\n",
       "  </thead>\n",
       "  <tbody>\n",
       "    <tr>\n",
       "      <th>서울</th>\n",
       "      <td>2017</td>\n",
       "      <td>18</td>\n",
       "      <td>50</td>\n",
       "      <td>True</td>\n",
       "      <td>True</td>\n",
       "    </tr>\n",
       "    <tr>\n",
       "      <th>부산</th>\n",
       "      <td>2017</td>\n",
       "      <td>20</td>\n",
       "      <td>40</td>\n",
       "      <td>True</td>\n",
       "      <td>True</td>\n",
       "    </tr>\n",
       "    <tr>\n",
       "      <th>대전</th>\n",
       "      <td>2018</td>\n",
       "      <td>19</td>\n",
       "      <td>20</td>\n",
       "      <td>False</td>\n",
       "      <td>False</td>\n",
       "    </tr>\n",
       "    <tr>\n",
       "      <th>대구</th>\n",
       "      <td>2018</td>\n",
       "      <td>21</td>\n",
       "      <td>30</td>\n",
       "      <td>True</td>\n",
       "      <td>False</td>\n",
       "    </tr>\n",
       "    <tr>\n",
       "      <th>광주</th>\n",
       "      <td>2018</td>\n",
       "      <td>20</td>\n",
       "      <td>10</td>\n",
       "      <td>False</td>\n",
       "      <td>False</td>\n",
       "    </tr>\n",
       "  </tbody>\n",
       "</table>\n",
       "</div>"
      ],
      "text/plain": [
       "      연도  날씨  car  high1  high2\n",
       "도시                             \n",
       "서울  2017  18   50   True   True\n",
       "부산  2017  20   40   True   True\n",
       "대전  2018  19   20  False  False\n",
       "대구  2018  21   30   True  False\n",
       "광주  2018  20   10  False  False"
      ]
     },
     "execution_count": 32,
     "metadata": {},
     "output_type": "execute_result"
    }
   ],
   "source": [
    "# 열 추가는 원본에 바로 반영 됨\n",
    "data7['high2'] = data7.car >= 40 ; data7"
   ]
  },
  {
   "cell_type": "code",
   "execution_count": 33,
   "id": "53b62785",
   "metadata": {},
   "outputs": [
    {
     "name": "stderr",
     "output_type": "stream",
     "text": [
      
     ]
    },
    {
     "data": {
      "text/html": [
       "<div>\n",
       "<style scoped>\n",
       "    .dataframe tbody tr th:only-of-type {\n",
       "        vertical-align: middle;\n",
       "    }\n",
       "\n",
       "    .dataframe tbody tr th {\n",
       "        vertical-align: top;\n",
       "    }\n",
       "\n",
       "    .dataframe thead th {\n",
       "        text-align: right;\n",
       "    }\n",
       "</style>\n",
       "<table border=\"1\" class=\"dataframe\">\n",
       "  <thead>\n",
       "    <tr style=\"text-align: right;\">\n",
       "      <th></th>\n",
       "      <th>연도</th>\n",
       "      <th>날씨</th>\n",
       "      <th>car</th>\n",
       "      <th>high2</th>\n",
       "    </tr>\n",
       "    <tr>\n",
       "      <th>도시</th>\n",
       "      <th></th>\n",
       "      <th></th>\n",
       "      <th></th>\n",
       "      <th></th>\n",
       "    </tr>\n",
       "  </thead>\n",
       "  <tbody>\n",
       "    <tr>\n",
       "      <th>서울</th>\n",
       "      <td>2017</td>\n",
       "      <td>18</td>\n",
       "      <td>50</td>\n",
       "      <td>True</td>\n",
       "    </tr>\n",
       "    <tr>\n",
       "      <th>부산</th>\n",
       "      <td>2017</td>\n",
       "      <td>20</td>\n",
       "      <td>40</td>\n",
       "      <td>True</td>\n",
       "    </tr>\n",
       "    <tr>\n",
       "      <th>대전</th>\n",
       "      <td>2018</td>\n",
       "      <td>19</td>\n",
       "      <td>20</td>\n",
       "      <td>False</td>\n",
       "    </tr>\n",
       "    <tr>\n",
       "      <th>대구</th>\n",
       "      <td>2018</td>\n",
       "      <td>21</td>\n",
       "      <td>30</td>\n",
       "      <td>False</td>\n",
       "    </tr>\n",
       "    <tr>\n",
       "      <th>광주</th>\n",
       "      <td>2018</td>\n",
       "      <td>20</td>\n",
       "      <td>10</td>\n",
       "      <td>False</td>\n",
       "    </tr>\n",
       "  </tbody>\n",
       "</table>\n",
       "</div>"
      ],
      "text/plain": [
       "      연도  날씨  car  high2\n",
       "도시                      \n",
       "서울  2017  18   50   True\n",
       "부산  2017  20   40   True\n",
       "대전  2018  19   20  False\n",
       "대구  2018  21   30  False\n",
       "광주  2018  20   10  False"
      ]
     },
     "execution_count": 33,
     "metadata": {},
     "output_type": "execute_result"
    }
   ],
   "source": [
    "# 특정 칼럼 삭제: drop()\n",
    "data7.drop('high1', 1) # 1: 열, 0: 행을 의미"
   ]
  },
  {
   "cell_type": "code",
   "execution_count": 34,
   "id": "8f3b5af2",
   "metadata": {},
   "outputs": [
    {
     "data": {
      "text/html": [
       "<div>\n",
       "<style scoped>\n",
       "    .dataframe tbody tr th:only-of-type {\n",
       "        vertical-align: middle;\n",
       "    }\n",
       "\n",
       "    .dataframe tbody tr th {\n",
       "        vertical-align: top;\n",
       "    }\n",
       "\n",
       "    .dataframe thead th {\n",
       "        text-align: right;\n",
       "    }\n",
       "</style>\n",
       "<table border=\"1\" class=\"dataframe\">\n",
       "  <thead>\n",
       "    <tr style=\"text-align: right;\">\n",
       "      <th></th>\n",
       "      <th>연도</th>\n",
       "      <th>날씨</th>\n",
       "      <th>car</th>\n",
       "      <th>high1</th>\n",
       "      <th>high2</th>\n",
       "    </tr>\n",
       "    <tr>\n",
       "      <th>도시</th>\n",
       "      <th></th>\n",
       "      <th></th>\n",
       "      <th></th>\n",
       "      <th></th>\n",
       "      <th></th>\n",
       "    </tr>\n",
       "  </thead>\n",
       "  <tbody>\n",
       "    <tr>\n",
       "      <th>서울</th>\n",
       "      <td>2017</td>\n",
       "      <td>18</td>\n",
       "      <td>50</td>\n",
       "      <td>True</td>\n",
       "      <td>True</td>\n",
       "    </tr>\n",
       "    <tr>\n",
       "      <th>부산</th>\n",
       "      <td>2017</td>\n",
       "      <td>20</td>\n",
       "      <td>40</td>\n",
       "      <td>True</td>\n",
       "      <td>True</td>\n",
       "    </tr>\n",
       "    <tr>\n",
       "      <th>대전</th>\n",
       "      <td>2018</td>\n",
       "      <td>19</td>\n",
       "      <td>20</td>\n",
       "      <td>False</td>\n",
       "      <td>False</td>\n",
       "    </tr>\n",
       "    <tr>\n",
       "      <th>대구</th>\n",
       "      <td>2018</td>\n",
       "      <td>21</td>\n",
       "      <td>30</td>\n",
       "      <td>True</td>\n",
       "      <td>False</td>\n",
       "    </tr>\n",
       "    <tr>\n",
       "      <th>광주</th>\n",
       "      <td>2018</td>\n",
       "      <td>20</td>\n",
       "      <td>10</td>\n",
       "      <td>False</td>\n",
       "      <td>False</td>\n",
       "    </tr>\n",
       "  </tbody>\n",
       "</table>\n",
       "</div>"
      ],
      "text/plain": [
       "      연도  날씨  car  high1  high2\n",
       "도시                             \n",
       "서울  2017  18   50   True   True\n",
       "부산  2017  20   40   True   True\n",
       "대전  2018  19   20  False  False\n",
       "대구  2018  21   30   True  False\n",
       "광주  2018  20   10  False  False"
      ]
     },
     "execution_count": 34,
     "metadata": {},
     "output_type": "execute_result"
    }
   ],
   "source": [
    "data7 # 삭제는 원본 변경X"
   ]
  },
  {
   "cell_type": "code",
   "execution_count": 35,
   "id": "4ba352ba",
   "metadata": {},
   "outputs": [
    {
     "name": "stderr",
     "output_type": "stream",
     "text": [
      
     ]
    },
    {
     "data": {
      "text/html": [
       "<div>\n",
       "<style scoped>\n",
       "    .dataframe tbody tr th:only-of-type {\n",
       "        vertical-align: middle;\n",
       "    }\n",
       "\n",
       "    .dataframe tbody tr th {\n",
       "        vertical-align: top;\n",
       "    }\n",
       "\n",
       "    .dataframe thead th {\n",
       "        text-align: right;\n",
       "    }\n",
       "</style>\n",
       "<table border=\"1\" class=\"dataframe\">\n",
       "  <thead>\n",
       "    <tr style=\"text-align: right;\">\n",
       "      <th></th>\n",
       "      <th>연도</th>\n",
       "      <th>날씨</th>\n",
       "      <th>car</th>\n",
       "      <th>high1</th>\n",
       "    </tr>\n",
       "    <tr>\n",
       "      <th>도시</th>\n",
       "      <th></th>\n",
       "      <th></th>\n",
       "      <th></th>\n",
       "      <th></th>\n",
       "    </tr>\n",
       "  </thead>\n",
       "  <tbody>\n",
       "    <tr>\n",
       "      <th>서울</th>\n",
       "      <td>2017</td>\n",
       "      <td>18</td>\n",
       "      <td>50</td>\n",
       "      <td>True</td>\n",
       "    </tr>\n",
       "    <tr>\n",
       "      <th>부산</th>\n",
       "      <td>2017</td>\n",
       "      <td>20</td>\n",
       "      <td>40</td>\n",
       "      <td>True</td>\n",
       "    </tr>\n",
       "    <tr>\n",
       "      <th>대전</th>\n",
       "      <td>2018</td>\n",
       "      <td>19</td>\n",
       "      <td>20</td>\n",
       "      <td>False</td>\n",
       "    </tr>\n",
       "    <tr>\n",
       "      <th>대구</th>\n",
       "      <td>2018</td>\n",
       "      <td>21</td>\n",
       "      <td>30</td>\n",
       "      <td>True</td>\n",
       "    </tr>\n",
       "    <tr>\n",
       "      <th>광주</th>\n",
       "      <td>2018</td>\n",
       "      <td>20</td>\n",
       "      <td>10</td>\n",
       "      <td>False</td>\n",
       "    </tr>\n",
       "  </tbody>\n",
       "</table>\n",
       "</div>"
      ],
      "text/plain": [
       "      연도  날씨  car  high1\n",
       "도시                      \n",
       "서울  2017  18   50   True\n",
       "부산  2017  20   40   True\n",
       "대전  2018  19   20  False\n",
       "대구  2018  21   30   True\n",
       "광주  2018  20   10  False"
      ]
     },
     "execution_count": 35,
     "metadata": {},
     "output_type": "execute_result"
    }
   ],
   "source": [
    "a = data7.drop('high2', 1) # 지우는 방법 1\n",
    "a"
   ]
  },
  {
   "cell_type": "code",
   "execution_count": 36,
   "id": "d078abb0",
   "metadata": {},
   "outputs": [
    {
     "name": "stderr",
     "output_type": "stream",
     "text": [
      "C:\\Users\\유수현\\AppData\\Local\\Temp\\ipykernel_14580\\2347664719.py:1: FutureWarning: In a future version of pandas all arguments of DataFrame.drop except for the argument 'labels' will be keyword-only.\n",
      "  data7.drop('high1', 1, inplace = True) # 지우는 방법 2\n"
     ]
    }
   ],
   "source": [
    "data7.drop('high1', 1, inplace = True) # 지우는 방법 2"
   ]
  },
  {
   "cell_type": "code",
   "execution_count": 37,
   "id": "149aa99c",
   "metadata": {},
   "outputs": [
    {
     "data": {
      "text/html": [
       "<div>\n",
       "<style scoped>\n",
       "    .dataframe tbody tr th:only-of-type {\n",
       "        vertical-align: middle;\n",
       "    }\n",
       "\n",
       "    .dataframe tbody tr th {\n",
       "        vertical-align: top;\n",
       "    }\n",
       "\n",
       "    .dataframe thead th {\n",
       "        text-align: right;\n",
       "    }\n",
       "</style>\n",
       "<table border=\"1\" class=\"dataframe\">\n",
       "  <thead>\n",
       "    <tr style=\"text-align: right;\">\n",
       "      <th></th>\n",
       "      <th>연도</th>\n",
       "      <th>날씨</th>\n",
       "      <th>car</th>\n",
       "      <th>high2</th>\n",
       "    </tr>\n",
       "    <tr>\n",
       "      <th>도시</th>\n",
       "      <th></th>\n",
       "      <th></th>\n",
       "      <th></th>\n",
       "      <th></th>\n",
       "    </tr>\n",
       "  </thead>\n",
       "  <tbody>\n",
       "    <tr>\n",
       "      <th>서울</th>\n",
       "      <td>2017</td>\n",
       "      <td>18</td>\n",
       "      <td>50</td>\n",
       "      <td>True</td>\n",
       "    </tr>\n",
       "    <tr>\n",
       "      <th>부산</th>\n",
       "      <td>2017</td>\n",
       "      <td>20</td>\n",
       "      <td>40</td>\n",
       "      <td>True</td>\n",
       "    </tr>\n",
       "    <tr>\n",
       "      <th>대전</th>\n",
       "      <td>2018</td>\n",
       "      <td>19</td>\n",
       "      <td>20</td>\n",
       "      <td>False</td>\n",
       "    </tr>\n",
       "    <tr>\n",
       "      <th>대구</th>\n",
       "      <td>2018</td>\n",
       "      <td>21</td>\n",
       "      <td>30</td>\n",
       "      <td>False</td>\n",
       "    </tr>\n",
       "    <tr>\n",
       "      <th>광주</th>\n",
       "      <td>2018</td>\n",
       "      <td>20</td>\n",
       "      <td>10</td>\n",
       "      <td>False</td>\n",
       "    </tr>\n",
       "  </tbody>\n",
       "</table>\n",
       "</div>"
      ],
      "text/plain": [
       "      연도  날씨  car  high2\n",
       "도시                      \n",
       "서울  2017  18   50   True\n",
       "부산  2017  20   40   True\n",
       "대전  2018  19   20  False\n",
       "대구  2018  21   30  False\n",
       "광주  2018  20   10  False"
      ]
     },
     "execution_count": 37,
     "metadata": {},
     "output_type": "execute_result"
    }
   ],
   "source": [
    "data7"
   ]
  },
  {
   "cell_type": "code",
   "execution_count": 38,
   "id": "5e465d8f",
   "metadata": {},
   "outputs": [
    {
     "name": "stderr",
     "output_type": "stream",
     "text": [
      "C:\\Users\\유수현\\AppData\\Local\\Temp\\ipykernel_14580\\3376642214.py:1: FutureWarning: In a future version of pandas all arguments of DataFrame.drop except for the argument 'labels' will be keyword-only.\n",
      "  data7.drop('대구', 0, inplace = True) # 행\n"
     ]
    }
   ],
   "source": [
    "data7.drop('대구', 0, inplace = True) # 행"
   ]
  },
  {
   "cell_type": "code",
   "execution_count": 39,
   "id": "b229c92d",
   "metadata": {},
   "outputs": [
    {
     "data": {
      "text/html": [
       "<div>\n",
       "<style scoped>\n",
       "    .dataframe tbody tr th:only-of-type {\n",
       "        vertical-align: middle;\n",
       "    }\n",
       "\n",
       "    .dataframe tbody tr th {\n",
       "        vertical-align: top;\n",
       "    }\n",
       "\n",
       "    .dataframe thead th {\n",
       "        text-align: right;\n",
       "    }\n",
       "</style>\n",
       "<table border=\"1\" class=\"dataframe\">\n",
       "  <thead>\n",
       "    <tr style=\"text-align: right;\">\n",
       "      <th></th>\n",
       "      <th>연도</th>\n",
       "      <th>날씨</th>\n",
       "      <th>car</th>\n",
       "      <th>high2</th>\n",
       "    </tr>\n",
       "    <tr>\n",
       "      <th>도시</th>\n",
       "      <th></th>\n",
       "      <th></th>\n",
       "      <th></th>\n",
       "      <th></th>\n",
       "    </tr>\n",
       "  </thead>\n",
       "  <tbody>\n",
       "    <tr>\n",
       "      <th>서울</th>\n",
       "      <td>2017</td>\n",
       "      <td>18</td>\n",
       "      <td>50</td>\n",
       "      <td>True</td>\n",
       "    </tr>\n",
       "    <tr>\n",
       "      <th>부산</th>\n",
       "      <td>2017</td>\n",
       "      <td>20</td>\n",
       "      <td>40</td>\n",
       "      <td>True</td>\n",
       "    </tr>\n",
       "    <tr>\n",
       "      <th>대전</th>\n",
       "      <td>2018</td>\n",
       "      <td>19</td>\n",
       "      <td>20</td>\n",
       "      <td>False</td>\n",
       "    </tr>\n",
       "    <tr>\n",
       "      <th>광주</th>\n",
       "      <td>2018</td>\n",
       "      <td>20</td>\n",
       "      <td>10</td>\n",
       "      <td>False</td>\n",
       "    </tr>\n",
       "  </tbody>\n",
       "</table>\n",
       "</div>"
      ],
      "text/plain": [
       "      연도  날씨  car  high2\n",
       "도시                      \n",
       "서울  2017  18   50   True\n",
       "부산  2017  20   40   True\n",
       "대전  2018  19   20  False\n",
       "광주  2018  20   10  False"
      ]
     },
     "execution_count": 39,
     "metadata": {},
     "output_type": "execute_result"
    }
   ],
   "source": [
    "data7"
   ]
  },
  {
   "cell_type": "markdown",
   "id": "5b9b972e",
   "metadata": {},
   "source": [
    "### 람다 함수\n",
    "- 특정 함수를 편리하게 전체 data에 일괄 적용하는 방법\n",
    "   * default 적용 기준 : 열(column)\n",
    "   * 행(row) 방향으로 적용 : axis=1\n",
    "   \n",
    "- 예) (최대값-최소값)을 계산하는 함수를 정의하고 전체 data에 적용"
   ]
  },
  {
   "cell_type": "code",
   "execution_count": 40,
   "id": "351c7036",
   "metadata": {},
   "outputs": [],
   "source": [
    "def f(x):\n",
    "    k = x.max() - x.min()\n",
    "    return k"
   ]
  },
  {
   "cell_type": "code",
   "execution_count": 41,
   "id": "38be1032",
   "metadata": {},
   "outputs": [],
   "source": [
    "def f(x):\n",
    "    return x.max() - x.min()"
   ]
  },
  {
   "cell_type": "code",
   "execution_count": 42,
   "id": "2b8fd939",
   "metadata": {},
   "outputs": [],
   "source": [
    "# 람다식: 간단한 함수를 변수화 시킨 것\n",
    "f = lambda x: x.max() - x.min()"
   ]
  },
  {
   "cell_type": "code",
   "execution_count": 43,
   "id": "96e08072",
   "metadata": {},
   "outputs": [
    {
     "data": {
      "text/html": [
       "<div>\n",
       "<style scoped>\n",
       "    .dataframe tbody tr th:only-of-type {\n",
       "        vertical-align: middle;\n",
       "    }\n",
       "\n",
       "    .dataframe tbody tr th {\n",
       "        vertical-align: top;\n",
       "    }\n",
       "\n",
       "    .dataframe thead th {\n",
       "        text-align: right;\n",
       "    }\n",
       "</style>\n",
       "<table border=\"1\" class=\"dataframe\">\n",
       "  <thead>\n",
       "    <tr style=\"text-align: right;\">\n",
       "      <th></th>\n",
       "      <th>A열</th>\n",
       "      <th>B열</th>\n",
       "      <th>C열</th>\n",
       "    </tr>\n",
       "  </thead>\n",
       "  <tbody>\n",
       "    <tr>\n",
       "      <th>a</th>\n",
       "      <td>0</td>\n",
       "      <td>1</td>\n",
       "      <td>2</td>\n",
       "    </tr>\n",
       "    <tr>\n",
       "      <th>b</th>\n",
       "      <td>3</td>\n",
       "      <td>4</td>\n",
       "      <td>5</td>\n",
       "    </tr>\n",
       "    <tr>\n",
       "      <th>c</th>\n",
       "      <td>6</td>\n",
       "      <td>7</td>\n",
       "      <td>8</td>\n",
       "    </tr>\n",
       "    <tr>\n",
       "      <th>d</th>\n",
       "      <td>9</td>\n",
       "      <td>10</td>\n",
       "      <td>11</td>\n",
       "    </tr>\n",
       "  </tbody>\n",
       "</table>\n",
       "</div>"
      ],
      "text/plain": [
       "   A열  B열  C열\n",
       "a   0   1   2\n",
       "b   3   4   5\n",
       "c   6   7   8\n",
       "d   9  10  11"
      ]
     },
     "execution_count": 43,
     "metadata": {},
     "output_type": "execute_result"
    }
   ],
   "source": [
    "df = pd.DataFrame(np.arange(12).reshape(4, 3),\n",
    "                 columns = ['A열', 'B열', 'C열'],\n",
    "                 index = ['a', 'b', 'c', 'd'])\n",
    "df"
   ]
  },
  {
   "cell_type": "code",
   "execution_count": 44,
   "id": "45744212",
   "metadata": {},
   "outputs": [
    {
     "data": {
      "text/plain": [
       "A열    9\n",
       "B열    9\n",
       "C열    9\n",
       "dtype: int64"
      ]
     },
     "execution_count": 44,
     "metadata": {},
     "output_type": "execute_result"
    }
   ],
   "source": [
    "# 람다식 적용할 때 apply 씀\n",
    "df.apply(f) # 기본값이 axis=0, 열단위로 최댓값-최솟값"
   ]
  },
  {
   "cell_type": "code",
   "execution_count": 45,
   "id": "d10f2592",
   "metadata": {},
   "outputs": [
    {
     "data": {
      "text/plain": [
       "A열    9\n",
       "B열    9\n",
       "C열    9\n",
       "dtype: int64"
      ]
     },
     "execution_count": 45,
     "metadata": {},
     "output_type": "execute_result"
    }
   ],
   "source": [
    "df.apply(f, 0)"
   ]
  },
  {
   "cell_type": "code",
   "execution_count": 46,
   "id": "0aa77553",
   "metadata": {},
   "outputs": [
    {
     "data": {
      "text/plain": [
       "a    2\n",
       "b    2\n",
       "c    2\n",
       "d    2\n",
       "dtype: int64"
      ]
     },
     "execution_count": 46,
     "metadata": {},
     "output_type": "execute_result"
    }
   ],
   "source": [
    "df.apply(f, 1) # 행단위로 계산"
   ]
  }
 ],
 "metadata": {
  "kernelspec": {
   "display_name": "Python 3 (ipykernel)",
   "language": "python",
   "name": "python3"
  },
  "language_info": {
   "codemirror_mode": {
    "name": "ipython",
    "version": 3
   },
   "file_extension": ".py",
   "mimetype": "text/x-python",
   "name": "python",
   "nbconvert_exporter": "python",
   "pygments_lexer": "ipython3",
   "version": "3.9.13"
  }
 },
 "nbformat": 4,
 "nbformat_minor": 5
}
