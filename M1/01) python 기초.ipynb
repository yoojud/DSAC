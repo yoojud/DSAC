{
 "cells": [
  {
   "cell_type": "markdown",
   "id": "8d75e476",
   "metadata": {},
   "source": [
    "### python 기초 문법"
   ]
  },
  {
   "cell_type": "code",
   "execution_count": 1,
   "id": "af17badd",
   "metadata": {},
   "outputs": [
    {
     "data": {
      "text/plain": [
       "50"
      ]
     },
     "execution_count": 1,
     "metadata": {},
     "output_type": "execute_result"
    }
   ],
   "source": [
    "a = 5\n",
    "b = 10\n",
    "c = a * b ; c"
   ]
  },
  {
   "cell_type": "code",
   "execution_count": 2,
   "id": "601c4f63",
   "metadata": {},
   "outputs": [
    {
     "name": "stdout",
     "output_type": "stream",
     "text": [
      "출력 5 10 50 3 3.3333333333333335 1 끝\n"
     ]
    },
    {
     "data": {
      "text/plain": [
       "(3, 3.3333333333333335, 1)"
      ]
     },
     "execution_count": 2,
     "metadata": {},
     "output_type": "execute_result"
    }
   ],
   "source": [
    "e = 10/3  # 실수형 나누기\n",
    "d = 10//3 # 정수형 나누기\n",
    "f = 10%3  # 정수형 나누기의 나머지\n",
    "\n",
    "print(\"출력\", a, b, c, d, e, f, '끝')\n",
    "d, e, f   # 마지막줄에 작성된 변수는 print 없어도 출력됨"
   ]
  },
  {
   "cell_type": "code",
   "execution_count": 3,
   "id": "1f2c0345",
   "metadata": {},
   "outputs": [
    {
     "data": {
      "text/plain": [
       "(float, int)"
      ]
     },
     "execution_count": 3,
     "metadata": {},
     "output_type": "execute_result"
    }
   ],
   "source": [
    "type(e), type(f)"
   ]
  },
  {
   "cell_type": "code",
   "execution_count": 4,
   "id": "4de3b4d3",
   "metadata": {},
   "outputs": [
    {
     "name": "stdout",
     "output_type": "stream",
     "text": [
      "5 * 10 = 50\n",
      "5 * 10 = 50\n",
      "10 * 5 = 50\n"
     ]
    }
   ],
   "source": [
    "print(a, \"*\", b, '=', c)\n",
    "print(\"{} * {} = {}\".format(a, b, c))\n",
    "print(\"{1} * {0} = {2}\".format(a, b, c))"
   ]
  },
  {
   "cell_type": "code",
   "execution_count": 5,
   "id": "b6ac00c8",
   "metadata": {},
   "outputs": [
    {
     "name": "stdout",
     "output_type": "stream",
     "text": [
      "100200\n",
      "300\n"
     ]
    }
   ],
   "source": [
    "print(\"100\" + \"200\")\n",
    "print(100 + 200)"
   ]
  },
  {
   "cell_type": "code",
   "execution_count": 6,
   "id": "8bf3c6be",
   "metadata": {},
   "outputs": [
    {
     "name": "stdout",
     "output_type": "stream",
     "text": [
      "입력 = 5\n"
     ]
    },
    {
     "data": {
      "text/plain": [
       "'55555'"
      ]
     },
     "execution_count": 6,
     "metadata": {},
     "output_type": "execute_result"
    }
   ],
   "source": [
    "no = input('입력 = ') # 키보드로부터 입력받은 모든 수는 문자 취급\n",
    "no * 5                # 문자의 곱은 반복"
   ]
  },
  {
   "cell_type": "code",
   "execution_count": 7,
   "id": "fac214e4",
   "metadata": {},
   "outputs": [
    {
     "name": "stdout",
     "output_type": "stream",
     "text": [
      "입력 = 5\n"
     ]
    },
    {
     "data": {
      "text/plain": [
       "25"
      ]
     },
     "execution_count": 7,
     "metadata": {},
     "output_type": "execute_result"
    }
   ],
   "source": [
    "no = input('입력 = ')\n",
    "no = int(no) \n",
    "no * 5"
   ]
  },
  {
   "cell_type": "code",
   "execution_count": 8,
   "id": "4dcad116",
   "metadata": {},
   "outputs": [
    {
     "name": "stdout",
     "output_type": "stream",
     "text": [
      "입력 = 5\n"
     ]
    },
    {
     "data": {
      "text/plain": [
       "25"
      ]
     },
     "execution_count": 8,
     "metadata": {},
     "output_type": "execute_result"
    }
   ],
   "source": [
    "no = int(input('입력 = ')) # 입력받은 문자 -> int로 변환\n",
    "no * 5"
   ]
  },
  {
   "cell_type": "code",
   "execution_count": 9,
   "id": "950dfebc",
   "metadata": {},
   "outputs": [],
   "source": [
    "a  =5      # 정수형\n",
    "b = 5.0    # 실수형\n",
    "c = 5.1    # 실수형\n",
    "d = 'a'    # 문자 - string\n",
    "e = \"e\"    # 문자 - string\n",
    "f = ''' 딩가\n",
    "딩가 '''   # 줄 단위의 문자 - string\n",
    "g = \"\"\" 둥둥\n",
    "당당 \"\"\"   # 줄 단위의 문자 - string"
   ]
  },
  {
   "cell_type": "markdown",
   "id": "5e94159c",
   "metadata": {},
   "source": [
    "- 논리값은 True, False (대소문자 구분)\n",
    "- 논리값을 마치 숫자인 것처럼 연산에 바로 사용할 수 있다. (True=1,  False=0)"
   ]
  },
  {
   "cell_type": "code",
   "execution_count": 10,
   "id": "d3914856",
   "metadata": {},
   "outputs": [],
   "source": [
    "h = True  # 참 논리형(부울형) - 숫자1\n",
    "i = False # 거짓 논리형(부울형) - 숫자0"
   ]
  },
  {
   "cell_type": "code",
   "execution_count": 11,
   "id": "c6127f8a",
   "metadata": {},
   "outputs": [
    {
     "data": {
      "text/plain": [
       "(int, bool, float)"
      ]
     },
     "execution_count": 11,
     "metadata": {},
     "output_type": "execute_result"
    }
   ],
   "source": [
    "type(a), type(i), type(b)"
   ]
  },
  {
   "cell_type": "markdown",
   "id": "a0f9a611",
   "metadata": {},
   "source": [
    "### 리스트\n",
    "- 여러 항목의 집합체로 각 항목의 타입은 서로 달라도 된다. (정수, 부동소수, 논리값, 문자열 등)\n",
    "- 리스트를 만들려면 대괄호 [ ]를 사용하고 각 항목을 ','로 구분한다"
   ]
  },
  {
   "cell_type": "code",
   "execution_count": 12,
   "id": "e6703832",
   "metadata": {},
   "outputs": [],
   "source": [
    "listA = [a, b, c, d, e, f, g, h, i]\n",
    "listB = [5, 9, 12, 8, 30]"
   ]
  },
  {
   "cell_type": "code",
   "execution_count": 13,
   "id": "6179f2af",
   "metadata": {},
   "outputs": [
    {
     "data": {
      "text/plain": [
       "[5, 5.0, 5.1, 'a', 'e', ' 딩가\\n딩가 ', ' 둥둥\\n당당 ', True, False, 5, 9, 12, 8, 30]"
      ]
     },
     "execution_count": 13,
     "metadata": {},
     "output_type": "execute_result"
    }
   ],
   "source": [
    "listA + listB # 데이터 나열"
   ]
  },
  {
   "cell_type": "code",
   "execution_count": 14,
   "id": "c7958e7b",
   "metadata": {},
   "outputs": [
    {
     "data": {
      "text/plain": [
       "[5,\n",
       " 5.0,\n",
       " 5.1,\n",
       " 'a',\n",
       " 'e',\n",
       " ' 딩가\\n딩가 ',\n",
       " ' 둥둥\\n당당 ',\n",
       " True,\n",
       " False,\n",
       " 5,\n",
       " 5.0,\n",
       " 5.1,\n",
       " 'a',\n",
       " 'e',\n",
       " ' 딩가\\n딩가 ',\n",
       " ' 둥둥\\n당당 ',\n",
       " True,\n",
       " False]"
      ]
     },
     "execution_count": 14,
     "metadata": {},
     "output_type": "execute_result"
    }
   ],
   "source": [
    "listA*2 # 문자라 2번 반복"
   ]
  },
  {
   "cell_type": "code",
   "execution_count": 15,
   "id": "9a7974e3",
   "metadata": {},
   "outputs": [
    {
     "data": {
      "text/plain": [
       "[5, 9, 12, 8, 30, 5, 9, 12, 8, 30]"
      ]
     },
     "execution_count": 15,
     "metadata": {},
     "output_type": "execute_result"
    }
   ],
   "source": [
    "listB*2 # 2번 반복"
   ]
  },
  {
   "cell_type": "code",
   "execution_count": 16,
   "id": "18cf5c31",
   "metadata": {},
   "outputs": [],
   "source": [
    "listC = [5, 10, 15, 20, 25, 30, 35, 40]"
   ]
  },
  {
   "cell_type": "code",
   "execution_count": 17,
   "id": "e1d53ece",
   "metadata": {},
   "outputs": [
    {
     "data": {
      "text/plain": [
       "(30, 40, 5)"
      ]
     },
     "execution_count": 17,
     "metadata": {},
     "output_type": "execute_result"
    }
   ],
   "source": [
    "# 인덱스: 위치를 번호로 지정\n",
    "listC[-3], listC[-1], listC[0]"
   ]
  },
  {
   "cell_type": "code",
   "execution_count": 18,
   "id": "bed14b06",
   "metadata": {},
   "outputs": [
    {
     "data": {
      "text/plain": [
       "[5, 10, 15, 20, 25, 30, 35, 100]"
      ]
     },
     "execution_count": 18,
     "metadata": {},
     "output_type": "execute_result"
    }
   ],
   "source": [
    "# 값 수정시 인덱스 이용\n",
    "listC[-1]=100\n",
    "listC"
   ]
  },
  {
   "cell_type": "code",
   "execution_count": 19,
   "id": "d2957835",
   "metadata": {},
   "outputs": [
    {
     "data": {
      "text/plain": [
       "[10, 15, 20, 25]"
      ]
     },
     "execution_count": 19,
     "metadata": {},
     "output_type": "execute_result"
    }
   ],
   "source": [
    "# 슬라이스: 영역을 나누어서 지정\n",
    "listC[1:5] # 1번 위치부터 ~ 4번 위치까지"
   ]
  },
  {
   "cell_type": "code",
   "execution_count": 20,
   "id": "93000947",
   "metadata": {},
   "outputs": [
    {
     "data": {
      "text/plain": [
       "[5, 10, 15, 20, 25, 30]"
      ]
     },
     "execution_count": 20,
     "metadata": {},
     "output_type": "execute_result"
    }
   ],
   "source": [
    "listC[:6] # 0 ~ 5"
   ]
  },
  {
   "cell_type": "code",
   "execution_count": 21,
   "id": "e687edb7",
   "metadata": {},
   "outputs": [
    {
     "data": {
      "text/plain": [
       "[20, 25, 30, 35, 100]"
      ]
     },
     "execution_count": 21,
     "metadata": {},
     "output_type": "execute_result"
    }
   ],
   "source": [
    "listC[3:] # 3 ~ 끝"
   ]
  },
  {
   "cell_type": "code",
   "execution_count": 22,
   "id": "bac5d0f2",
   "metadata": {},
   "outputs": [
    {
     "data": {
      "text/plain": [
       "list"
      ]
     },
     "execution_count": 22,
     "metadata": {},
     "output_type": "execute_result"
    }
   ],
   "source": [
    "type(listC)"
   ]
  },
  {
   "cell_type": "code",
   "execution_count": 23,
   "id": "034e41c5",
   "metadata": {},
   "outputs": [
    {
     "data": {
      "text/plain": [
       "[5, 10, 15, 20, 25, 30, 35, 100, 200]"
      ]
     },
     "execution_count": 23,
     "metadata": {},
     "output_type": "execute_result"
    }
   ],
   "source": [
    "listC.append(200) # 마지막 위치에 추가됨, 무한으로 실행 가능\n",
    "listC"
   ]
  },
  {
   "cell_type": "code",
   "execution_count": 24,
   "id": "f1f01e69",
   "metadata": {},
   "outputs": [
    {
     "data": {
      "text/plain": [
       "[5, 10, 15, 330, 20, 25, 30, 35, 100, 200]"
      ]
     },
     "execution_count": 24,
     "metadata": {},
     "output_type": "execute_result"
    }
   ],
   "source": [
    "listC.insert(3, 330) # 특정 위치에 삽입(기존 값 밀림)\n",
    "listC"
   ]
  },
  {
   "cell_type": "code",
   "execution_count": 25,
   "id": "9f3f6f9c",
   "metadata": {},
   "outputs": [
    {
     "data": {
      "text/plain": [
       "[330, 5, 10, 15, 330, 20, 25, 30, 35, 100, 200]"
      ]
     },
     "execution_count": 25,
     "metadata": {},
     "output_type": "execute_result"
    }
   ],
   "source": [
    "listC.insert(0, 330) \n",
    "listC"
   ]
  },
  {
   "cell_type": "code",
   "execution_count": 26,
   "id": "c81c4ed4",
   "metadata": {},
   "outputs": [
    {
     "data": {
      "text/plain": [
       "1"
      ]
     },
     "execution_count": 26,
     "metadata": {},
     "output_type": "execute_result"
    }
   ],
   "source": [
    "listC.count(200) # 200이 몇 번 나오는지"
   ]
  },
  {
   "cell_type": "code",
   "execution_count": 27,
   "id": "64f2f6b8",
   "metadata": {},
   "outputs": [
    {
     "data": {
      "text/plain": [
       "3"
      ]
     },
     "execution_count": 27,
     "metadata": {},
     "output_type": "execute_result"
    }
   ],
   "source": [
    "listC.index(15) # 15가 있는 위치값(인덱스값)"
   ]
  },
  {
   "cell_type": "markdown",
   "id": "2a6356a7",
   "metadata": {},
   "source": [
    "### sort()"
   ]
  },
  {
   "cell_type": "markdown",
   "id": "ba7a8091",
   "metadata": {},
   "source": [
    "- sort() : 리스트 항목들의 내용들을 값의 크기 순으로 정렬, 리스트의 내용이 변경\n",
    "- default : 오름차순"
   ]
  },
  {
   "cell_type": "code",
   "execution_count": 28,
   "id": "c3eb2931",
   "metadata": {},
   "outputs": [
    {
     "data": {
      "text/plain": [
       "[5, 10, 15, 20, 25, 30, 35, 100, 200, 330, 330]"
      ]
     },
     "execution_count": 28,
     "metadata": {},
     "output_type": "execute_result"
    }
   ],
   "source": [
    "listC.sort() \n",
    "listC"
   ]
  },
  {
   "cell_type": "code",
   "execution_count": 33,
   "id": "c99a60bd",
   "metadata": {},
   "outputs": [
    {
     "data": {
      "text/plain": [
       "[330, 330, 200, 100, 35, 30, 25, 20, 15, 10, 5]"
      ]
     },
     "execution_count": 33,
     "metadata": {},
     "output_type": "execute_result"
    }
   ],
   "source": [
    "listC.sort(reverse=True) # 내림차순\n",
    "listC"
   ]
  },
  {
   "cell_type": "code",
   "execution_count": 39,
   "id": "5eef3f7a",
   "metadata": {},
   "outputs": [
    {
     "data": {
      "text/plain": [
       "[330, 330, 200, 100, 35, 30, 25, 20, 15, 10, 5]"
      ]
     },
     "execution_count": 39,
     "metadata": {},
     "output_type": "execute_result"
    }
   ],
   "source": [
    "listC.reverse() # 오름 -> <- 내림\n",
    "listC"
   ]
  },
  {
   "cell_type": "markdown",
   "id": "c882d266",
   "metadata": {},
   "source": [
    "### if 문"
   ]
  },
  {
   "cell_type": "code",
   "execution_count": 40,
   "id": "3ca78171",
   "metadata": {},
   "outputs": [
    {
     "name": "stdout",
     "output_type": "stream",
     "text": [
      "300 없음\n"
     ]
    },
    {
     "data": {
      "text/plain": [
       "[330, 330, 200, 100, 35, 30, 25, 20, 15, 10, 5]"
      ]
     },
     "execution_count": 40,
     "metadata": {},
     "output_type": "execute_result"
    }
   ],
   "source": [
    "if 300 in listC :\n",
    "  listC.remove(330) # 앞쪽에 있는 330 1개를 지움\n",
    "  print(\"지움\")\n",
    "else :\n",
    "  print(\"300 없음\")\n",
    "listC"
   ]
  },
  {
   "cell_type": "code",
   "execution_count": 41,
   "id": "5c8b85ca",
   "metadata": {},
   "outputs": [
    {
     "name": "stdout",
     "output_type": "stream",
     "text": [
      "200 지움\n"
     ]
    },
    {
     "data": {
      "text/plain": [
       "[330, 330, 100, 35, 30, 25, 20, 15, 10, 5]"
      ]
     },
     "execution_count": 41,
     "metadata": {},
     "output_type": "execute_result"
    }
   ],
   "source": [
    "if 200 not in listC :\n",
    "  print(\"200 없음\")\n",
    "else:\n",
    "  listC.remove(200)\n",
    "  print(\"200 지움\")\n",
    "listC"
   ]
  },
  {
   "cell_type": "code",
   "execution_count": 42,
   "id": "cc14b56c",
   "metadata": {},
   "outputs": [
    {
     "data": {
      "text/plain": [
       "330"
      ]
     },
     "execution_count": 42,
     "metadata": {},
     "output_type": "execute_result"
    }
   ],
   "source": [
    "max(listC)"
   ]
  },
  {
   "cell_type": "code",
   "execution_count": 43,
   "id": "cb668367",
   "metadata": {},
   "outputs": [
    {
     "data": {
      "text/plain": [
       "5"
      ]
     },
     "execution_count": 43,
     "metadata": {},
     "output_type": "execute_result"
    }
   ],
   "source": [
    "min(listC)"
   ]
  },
  {
   "cell_type": "code",
   "execution_count": 44,
   "id": "87c07cf1",
   "metadata": {},
   "outputs": [
    {
     "data": {
      "text/plain": [
       "900"
      ]
     },
     "execution_count": 44,
     "metadata": {},
     "output_type": "execute_result"
    }
   ],
   "source": [
    "sum(listC)"
   ]
  },
  {
   "cell_type": "code",
   "execution_count": 45,
   "id": "b82eb15b",
   "metadata": {},
   "outputs": [
    {
     "data": {
      "text/plain": [
       "10"
      ]
     },
     "execution_count": 45,
     "metadata": {},
     "output_type": "execute_result"
    }
   ],
   "source": [
    "len(listC) # len() : 리스트의 길이 (항목의 갯수)"
   ]
  },
  {
   "cell_type": "code",
   "execution_count": 46,
   "id": "113e0a20",
   "metadata": {},
   "outputs": [
    {
     "data": {
      "text/plain": [
       "90.0"
      ]
     },
     "execution_count": 46,
     "metadata": {},
     "output_type": "execute_result"
    }
   ],
   "source": [
    "sum(listC)/len(listC) "
   ]
  },
  {
   "cell_type": "markdown",
   "id": "0ae920da",
   "metadata": {},
   "source": [
    "### 튜플 (tuple)\n",
    "- 튜플은 리스트처럼 여러 항목의 집합을 담을 수 있는데 리스트와 달리 튜플의 내용은 '상수'로 취급되어 값을 바꿀 수 없다\n",
    "- 튜플을 만들려면 \n",
    "        * 소괄호( )를 사용하여 만들거나 \n",
    "        * 괄호없이 , 로 구분하여 나열한다.\n",
    "- 튜플 사용 이유 : 항목의 내용을 더 이상 변경 방지 & 처리속도 빠르다."
   ]
  },
  {
   "cell_type": "code",
   "execution_count": 54,
   "id": "80bc9c94",
   "metadata": {},
   "outputs": [
    {
     "data": {
      "text/plain": [
       "(tuple, tuple)"
      ]
     },
     "execution_count": 54,
     "metadata": {},
     "output_type": "execute_result"
    }
   ],
   "source": [
    "a=1, 2, 3\n",
    "b=(1, 2, 3)\n",
    "type(a), type(b)"
   ]
  },
  {
   "cell_type": "code",
   "execution_count": 55,
   "id": "c54bbefd",
   "metadata": {},
   "outputs": [
    {
     "data": {
      "text/plain": [
       "1"
      ]
     },
     "execution_count": 55,
     "metadata": {},
     "output_type": "execute_result"
    }
   ],
   "source": [
    "a[0]"
   ]
  },
  {
   "cell_type": "code",
   "execution_count": null,
   "id": "91cfba9e",
   "metadata": {},
   "outputs": [],
   "source": [
    "# 튜플 수정 불가 a[0]=100 <- 오류"
   ]
  },
  {
   "cell_type": "markdown",
   "id": "83f51814",
   "metadata": {},
   "source": [
    "### 사전 (Dictionaries)\n",
    "- 딕셔너리로 키(key)-값(value) 조합 형태의 리스트를 만들 수 있다. \n",
    "- 딕셔너리에서는 항목을 찾을 때 키(key)를 인자로 사용한다\n",
    "- 딕셔너너리에서 저장된 순서는 중요시하지 않는다.\n",
    "- 딕셔너리는 중괄호 {  } 로 만든다."
   ]
  },
  {
   "cell_type": "code",
   "execution_count": 57,
   "id": "6ba9582f",
   "metadata": {},
   "outputs": [
    {
     "name": "stdout",
     "output_type": "stream",
     "text": [
      "홍길동\n",
      "26\n",
      "82\n",
      "3\n",
      "<class 'dict'>\n"
     ]
    }
   ],
   "source": [
    "person = {'사람이름' : '홍길동', '나이' : 26, '몸무게' : 82}\n",
    "# 딕셔너리: 인덱스, 슬라이스 개념 없다. -> 키이름으로 접근, 키 이름:값\n",
    "\n",
    "print(person['사람이름'])\n",
    "print(person['나이'])\n",
    "print(person['몸무게'])\n",
    "print(len(person))\n",
    "print(type(person))"
   ]
  },
  {
   "cell_type": "code",
   "execution_count": 58,
   "id": "aa15aec2",
   "metadata": {},
   "outputs": [
    {
     "data": {
      "text/plain": [
       "{'사람이름': '홍길동', '나이': 100, '몸무게': 82, '직업': '의적'}"
      ]
     },
     "execution_count": 58,
     "metadata": {},
     "output_type": "execute_result"
    }
   ],
   "source": [
    "person['나이']=100    # 기존에 존재하는 이름은 수정\n",
    "person['직업']='의적' # 새이름은 추가\n",
    "person"
   ]
  },
  {
   "cell_type": "markdown",
   "id": "0bbe5074",
   "metadata": {},
   "source": [
    "- key() : key 리스트\n",
    "- value() : 값 리스트\n",
    "- item() : 딕셔너리 각 항목을 튜플로 만들고 전체 항목을 리스트로 반환(검색 속도를 빠르게 할 목적)"
   ]
  },
  {
   "cell_type": "code",
   "execution_count": 59,
   "id": "f1adc603",
   "metadata": {},
   "outputs": [
    {
     "data": {
      "text/plain": [
       "(dict_keys(['사람이름', '나이', '몸무게', '직업']),\n",
       " dict_values(['홍길동', 100, 82, '의적']),\n",
       " dict_items([('사람이름', '홍길동'), ('나이', 100), ('몸무게', 82), ('직업', '의적')]))"
      ]
     },
     "execution_count": 59,
     "metadata": {},
     "output_type": "execute_result"
    }
   ],
   "source": [
    "person.keys(), person.values(), person.items()"
   ]
  },
  {
   "cell_type": "code",
   "execution_count": 60,
   "id": "314d01a4",
   "metadata": {},
   "outputs": [
    {
     "data": {
      "text/plain": [
       "{'사람이름': '홍길동', '몸무게': 82, '직업': '의적'}"
      ]
     },
     "execution_count": 60,
     "metadata": {},
     "output_type": "execute_result"
    }
   ],
   "source": [
    "del person['나이']\n",
    "person"
   ]
  },
  {
   "cell_type": "code",
   "execution_count": 61,
   "id": "ffafe8be",
   "metadata": {},
   "outputs": [
    {
     "name": "stdout",
     "output_type": "stream",
     "text": [
      "없다.\n"
     ]
    }
   ],
   "source": [
    "if '나이' in person:\n",
    "  del person['나이']\n",
    "  print('지웠다')\n",
    "else:\n",
    "  print(\"없다.\")"
   ]
  },
  {
   "cell_type": "code",
   "execution_count": 62,
   "id": "fd34ddcb",
   "metadata": {},
   "outputs": [
    {
     "data": {
      "text/plain": [
       "[330, 330, 100, 30, 25, 20, 15, 10, 5]"
      ]
     },
     "execution_count": 62,
     "metadata": {},
     "output_type": "execute_result"
    }
   ],
   "source": [
    "del listC[3] # remove, del 됨\n",
    "listC"
   ]
  },
  {
   "cell_type": "code",
   "execution_count": 63,
   "id": "0feb5d6c",
   "metadata": {},
   "outputs": [
    {
     "data": {
      "text/plain": [
       "[330, 330, 100, 30, 25, 20, 15, 10]"
      ]
     },
     "execution_count": 63,
     "metadata": {},
     "output_type": "execute_result"
    }
   ],
   "source": [
    "listC.pop() # 마지막 위치 삭제\n",
    "listC"
   ]
  },
  {
   "cell_type": "code",
   "execution_count": 64,
   "id": "143e921c",
   "metadata": {},
   "outputs": [
    {
     "data": {
      "text/plain": [
       "[330, 330, 30, 25, 20, 15, 10]"
      ]
     },
     "execution_count": 64,
     "metadata": {},
     "output_type": "execute_result"
    }
   ],
   "source": [
    "listC.pop(2) # 2번째 위치 값 삭제\n",
    "listC"
   ]
  },
  {
   "cell_type": "code",
   "execution_count": 65,
   "id": "1aaa28fb",
   "metadata": {},
   "outputs": [
    {
     "data": {
      "text/plain": [
       "{'몸무게': 82, '직업': '의적'}"
      ]
     },
     "execution_count": 65,
     "metadata": {},
     "output_type": "execute_result"
    }
   ],
   "source": [
    "person.pop('사람이름') # 딕셔너리의 접근은 키이름으로 한다.\n",
    "person"
   ]
  },
  {
   "cell_type": "code",
   "execution_count": 66,
   "id": "1e171bea",
   "metadata": {},
   "outputs": [
    {
     "data": {
      "text/plain": [
       "{}"
      ]
     },
     "execution_count": 66,
     "metadata": {},
     "output_type": "execute_result"
    }
   ],
   "source": [
    "person.clear()\n",
    "person"
   ]
  }
 ],
 "metadata": {
  "kernelspec": {
   "display_name": "Python 3 (ipykernel)",
   "language": "python",
   "name": "python3"
  },
  "language_info": {
   "codemirror_mode": {
    "name": "ipython",
    "version": 3
   },
   "file_extension": ".py",
   "mimetype": "text/x-python",
   "name": "python",
   "nbconvert_exporter": "python",
   "pygments_lexer": "ipython3",
   "version": "3.9.13"
  }
 },
 "nbformat": 4,
 "nbformat_minor": 5
}
