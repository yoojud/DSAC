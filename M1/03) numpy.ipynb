{
 "cells": [
  {
   "cell_type": "code",
   "execution_count": 1,
   "id": "a398debf",
   "metadata": {},
   "outputs": [],
   "source": [
    "import math # 수학 라이브러리"
   ]
  },
  {
   "cell_type": "code",
   "execution_count": 2,
   "id": "c717fbe3",
   "metadata": {},
   "outputs": [
    {
     "data": {
      "text/plain": [
       "-0.4480736161291701"
      ]
     },
     "execution_count": 2,
     "metadata": {},
     "output_type": "execute_result"
    }
   ],
   "source": [
    "math.cos(90)"
   ]
  },
  {
   "cell_type": "code",
   "execution_count": 3,
   "id": "9bfcc40c",
   "metadata": {},
   "outputs": [
    {
     "data": {
      "text/plain": [
       "1024.0"
      ]
     },
     "execution_count": 3,
     "metadata": {},
     "output_type": "execute_result"
    }
   ],
   "source": [
    "math.pow(2, 10) # 2의 10승"
   ]
  },
  {
   "cell_type": "markdown",
   "id": "e750d6b1",
   "metadata": {},
   "source": [
    "### numpy \n",
    "- n 차원 배열 (ndarray)\n",
    "- Python의 list, tuple 등 : 여러 항목으로 구성된 data를 다루는데 사용할 수 있다.\n",
    "- Numpy module\n",
    "   * Numerical Python\n",
    "   * 다루어야 할 data가 모두 숫자인 경우, 계산 속도를 개선하기 위해 사용\n",
    "   * 수학에서의 벡터(1차원 배열), 메트릭스(2차원, 3차원 등) 등 다차원 배열(array)을 계산하는데 유리\n",
    "   * data 분석에서는 주로 숫자 배열을 다루는 경우가 많아 Numpy 라이브러리가 제공하는 ndarray를 사용하면 편리, 속도도 빠르다.\n",
    "   * 배열에서 각 항목은 모두 동일한 type의 숫자(정수, 부동소수 등)이어야 한다."
   ]
  },
  {
   "cell_type": "code",
   "execution_count": 4,
   "id": "ab70a26f",
   "metadata": {},
   "outputs": [],
   "source": [
    "import numpy # numpy 라이브러리를 바로 호출, numpy라는 이름을 사용"
   ]
  },
  {
   "cell_type": "code",
   "execution_count": 5,
   "id": "03a38986",
   "metadata": {},
   "outputs": [],
   "source": [
    "import numpy as np # np라는 약어 사용, numpy 라이브러리를 바로 호출"
   ]
  },
  {
   "cell_type": "code",
   "execution_count": 6,
   "id": "19bbab19",
   "metadata": {},
   "outputs": [
    {
     "name": "stdout",
     "output_type": "stream",
     "text": [
      "[1 5 9]\n"
     ]
    },
    {
     "data": {
      "text/plain": [
       "numpy.ndarray"
      ]
     },
     "execution_count": 6,
     "metadata": {},
     "output_type": "execute_result"
    }
   ],
   "source": [
    "a=np.array([1, 5, 9])\n",
    "print(a)\n",
    "type(a)"
   ]
  },
  {
   "cell_type": "code",
   "execution_count": 2,
   "id": "b171bfaf",
   "metadata": {},
   "outputs": [],
   "source": [
    "from numpy import * # numpy 라이브러리를 바로 호출, 이름사용x"
   ]
  },
  {
   "cell_type": "code",
   "execution_count": 4,
   "id": "a270cf4b",
   "metadata": {},
   "outputs": [
    {
     "name": "stdout",
     "output_type": "stream",
     "text": [
      "[ 2  5 12]\n"
     ]
    },
    {
     "data": {
      "text/plain": [
       "numpy.ndarray"
      ]
     },
     "execution_count": 4,
     "metadata": {},
     "output_type": "execute_result"
    }
   ],
   "source": [
    "b=array([2, 5, 12])\n",
    "print(b)\n",
    "type(b)"
   ]
  },
  {
   "cell_type": "code",
   "execution_count": 3,
   "id": "a8889ba5",
   "metadata": {},
   "outputs": [
    {
     "name": "stdout",
     "output_type": "stream",
     "text": [
      "[1, 2, 10]\n",
      "[1, 2, 10, 1, 2, 10, 1, 2, 10]\n"
     ]
    }
   ],
   "source": [
    "listA=[1, 2, 10]\n",
    "print(listA)\n",
    "print(listA * 3)\n",
    "# 리스트에 숫자를 곱하면, 동일한 리스트가 숫자만큼 복사\n",
    "# print(listA + 100) -> 에러: list는 계산 못함"
   ]
  },
  {
   "cell_type": "code",
   "execution_count": 6,
   "id": "c4130999",
   "metadata": {},
   "outputs": [
    {
     "name": "stdout",
     "output_type": "stream",
     "text": [
      "[ 1  2 10]\n",
      "[ 3  6 30]\n",
      "[101 102 110]\n",
      "(3,)\n",
      "3\n",
      "1\n",
      "int32\n",
      "4\n",
      "<class 'numpy.ndarray'>\n"
     ]
    }
   ],
   "source": [
    "arr=np.array(listA)\n",
    "print(arr)\n",
    "print(arr * 3)\n",
    "print(arr + 100)\n",
    "# 배열에 숫자를 곱,더하면 모든 항목에 적용됨 -> 벡터화\n",
    "\n",
    "print(arr.shape)    # *행 *열을 출력\n",
    "print(arr.size)     # 원소의 크기\n",
    "print(arr.ndim)     # 차원\n",
    "print(arr.dtype)    # 원소의 데이터 형식\n",
    "print(arr.itemsize) # 원소의 데이터 형식의 크기\n",
    "print(type(arr))   # 변수의 데이터형"
   ]
  },
  {
   "cell_type": "code",
   "execution_count": 12,
   "id": "92ccdae1",
   "metadata": {},
   "outputs": [
    {
     "name": "stdout",
     "output_type": "stream",
     "text": [
      "[[1.0, 2.5, 3.2], [4, 5, 6], [7, 8, 9], [5, 6, 4], [1, 2, 3], [4, 5, 6], [7, 8, 9]]\n",
      "[[1.0, 2.5, 3.2], [4, 5, 6], [7, 8, 9], [5, 6, 4]]\n",
      "[[1.0, 2.5, 3.2], [4, 5, 6], [7, 8, 9], [5, 6, 4], [1.0, 2.5, 3.2], [4, 5, 6], [7, 8, 9], [5, 6, 4], [1.0, 2.5, 3.2], [4, 5, 6], [7, 8, 9], [5, 6, 4]]\n"
     ]
    }
   ],
   "source": [
    "data=[[1.0, 2.5, 3.2], [4, 5, 6], [7, 8, 9], [5, 6, 4]]\n",
    "data2=[[1, 2, 3], [4, 5, 6], [7, 8, 9]]\n",
    "print(data + data2)\n",
    "print(data)\n",
    "print(data * 3)"
   ]
  },
  {
   "cell_type": "code",
   "execution_count": 17,
   "id": "7df658a2",
   "metadata": {},
   "outputs": [
    {
     "name": "stdout",
     "output_type": "stream",
     "text": [
      "[[1.  2.5 3.2]\n",
      " [4.  5.  6. ]\n",
      " [7.  8.  9. ]\n",
      " [5.  6.  4. ]]\n",
      "[[1 2 3]\n",
      " [4 5 6]\n",
      " [7 8 9]]\n"
     ]
    }
   ],
   "source": [
    "data3 = np.array(data)\n",
    "data4 = np.array(data2)\n",
    "print(data3)\n",
    "print(data4)"
   ]
  },
  {
   "cell_type": "code",
   "execution_count": 18,
   "id": "3d6643ef",
   "metadata": {},
   "outputs": [
    {
     "name": "stdout",
     "output_type": "stream",
     "text": [
      "[[ 2.   5.   6.4]\n",
      " [ 8.  10.  12. ]\n",
      " [14.  16.  18. ]\n",
      " [10.  12.   8. ]]\n",
      "[[102.  105.  106.4]\n",
      " [108.  110.  112. ]\n",
      " [114.  116.  118. ]\n",
      " [110.  112.  108. ]]\n"
     ]
    }
   ],
   "source": [
    "data6 = np.array(data)\n",
    "data5 = data3 + data6 # 배열끼리 계산은 행과 열의 크기가 동일해야 함\n",
    "print(data5)\n",
    "print(data5 + 100)"
   ]
  },
  {
   "cell_type": "code",
   "execution_count": 21,
   "id": "1f676191",
   "metadata": {},
   "outputs": [
    {
     "name": "stdout",
     "output_type": "stream",
     "text": [
      "(4, 3)\n",
      "12\n",
      "2\n",
      "int32\n",
      "4\n",
      "<class 'numpy.ndarray'>\n"
     ]
    }
   ],
   "source": [
    "print(data5.shape)\n",
    "print(data5.size)\n",
    "print(data5.ndim)\n",
    "print(data5.dtype)\n",
    "print(data5.itemsize)\n",
    "print(type(data5))"
   ]
  },
  {
   "cell_type": "code",
   "execution_count": 21,
   "id": "8d2f12ca",
   "metadata": {},
   "outputs": [
    {
     "data": {
      "text/plain": [
       "(10.0, 10.0)"
      ]
     },
     "execution_count": 21,
     "metadata": {},
     "output_type": "execute_result"
    }
   ],
   "source": [
    "data5[1,1], data5[1][1] # 1행 1열, tuple 형태"
   ]
  },
  {
   "cell_type": "markdown",
   "id": "2c8fce9a",
   "metadata": {},
   "source": [
    "### Slice\n",
    "- 행(row) 또는 열(column)의 일부를 얻으려고 할 때 사용\n",
    "- [start:last] \n",
    "    * default start=0, last=n\n",
    "    * slicing 범위 : start ~ (last-1) \n",
    "- [ : ] : 전체\n",
    "- [0:n] : 0번째 ~ (n-1)번째\n",
    "- [ :5] : 0번째 ~ 4번째\n",
    "- [2: ] : 2번째 ~ 마지막(끝까지)\n",
    "- [-1] : 제일 마지막 항목\n",
    "- [-2] : 제일 마지막에서 두번째 항목"
   ]
  },
  {
   "cell_type": "code",
   "execution_count": 23,
   "id": "995b7b39",
   "metadata": {},
   "outputs": [
    {
     "data": {
      "text/plain": [
       "array([6.4])"
      ]
     },
     "execution_count": 23,
     "metadata": {},
     "output_type": "execute_result"
    }
   ],
   "source": [
    "data5[0,2:] # 0행, 2~끝열"
   ]
  },
  {
   "cell_type": "code",
   "execution_count": 27,
   "id": "6105ad69",
   "metadata": {},
   "outputs": [
    {
     "data": {
      "text/plain": [
       "array([[ 4,  6],\n",
       "       [10, 12]])"
      ]
     },
     "execution_count": 27,
     "metadata": {},
     "output_type": "execute_result"
    }
   ],
   "source": [
    "data5[:2, 1:] # 0~1행, 1~끝열"
   ]
  },
  {
   "cell_type": "code",
   "execution_count": 36,
   "id": "97390e22",
   "metadata": {},
   "outputs": [
    {
     "data": {
      "text/plain": [
       "array([[ 2,  4,  6],\n",
       "       [ 8, 10, 12],\n",
       "       [14, 16, 18]])"
      ]
     },
     "execution_count": 36,
     "metadata": {},
     "output_type": "execute_result"
    }
   ],
   "source": [
    "data5[:3] # 0~2행, 전체 열"
   ]
  },
  {
   "cell_type": "code",
   "execution_count": 26,
   "id": "d378e770",
   "metadata": {},
   "outputs": [
    {
     "data": {
      "text/plain": [
       "array([ 6.4, 12. , 18. ,  8. ])"
      ]
     },
     "execution_count": 26,
     "metadata": {},
     "output_type": "execute_result"
    }
   ],
   "source": [
    "data5[:, 2] # 전체 행, 2열"
   ]
  },
  {
   "cell_type": "code",
   "execution_count": 31,
   "id": "2a62d1e4",
   "metadata": {},
   "outputs": [
    {
     "data": {
      "text/plain": [
       "array([[0., 0., 0.],\n",
       "       [0., 0., 0.]])"
      ]
     },
     "execution_count": 31,
     "metadata": {},
     "output_type": "execute_result"
    }
   ],
   "source": [
    "np.zeros((2,3))"
   ]
  },
  {
   "cell_type": "code",
   "execution_count": 34,
   "id": "1a2d0f10",
   "metadata": {},
   "outputs": [
    {
     "data": {
      "text/plain": [
       "array([[1., 1., 1.],\n",
       "       [1., 1., 1.]])"
      ]
     },
     "execution_count": 34,
     "metadata": {},
     "output_type": "execute_result"
    }
   ],
   "source": [
    "np.ones((2,3))"
   ]
  },
  {
   "cell_type": "code",
   "execution_count": 28,
   "id": "d72ecbd7",
   "metadata": {},
   "outputs": [
    {
     "name": "stdout",
     "output_type": "stream",
     "text": [
      "<class 'range'>\n"
     ]
    },
    {
     "data": {
      "text/plain": [
       "range(0, 5)"
      ]
     },
     "execution_count": 28,
     "metadata": {},
     "output_type": "execute_result"
    }
   ],
   "source": [
    "# range 범위 만들기\n",
    "x = range(5)\n",
    "print(type(x))\n",
    "x"
   ]
  },
  {
   "cell_type": "code",
   "execution_count": 27,
   "id": "d561593f",
   "metadata": {},
   "outputs": [
    {
     "name": "stdout",
     "output_type": "stream",
     "text": [
      "<class 'numpy.ndarray'>\n"
     ]
    },
    {
     "data": {
      "text/plain": [
       "array([0, 1, 2, 3, 4])"
      ]
     },
     "execution_count": 27,
     "metadata": {},
     "output_type": "execute_result"
    }
   ],
   "source": [
    "y = np.arange(5)\n",
    "print(type(y)) ; y"
   ]
  },
  {
   "cell_type": "code",
   "execution_count": 29,
   "id": "ebf3b724",
   "metadata": {},
   "outputs": [
    {
     "data": {
      "text/plain": [
       "array([0., 1., 2., 3., 4.], dtype=float32)"
      ]
     },
     "execution_count": 29,
     "metadata": {},
     "output_type": "execute_result"
    }
   ],
   "source": [
    "# 데이터 타입 변경: astype\n",
    "z = y.astype(np.float32) ; z"
   ]
  },
  {
   "cell_type": "code",
   "execution_count": 45,
   "id": "98a829b4",
   "metadata": {},
   "outputs": [
    {
     "data": {
      "text/plain": [
       "array([ 0,  1,  2,  3,  4,  5,  6,  7,  8,  9, 10, 11])"
      ]
     },
     "execution_count": 45,
     "metadata": {},
     "output_type": "execute_result"
    }
   ],
   "source": [
    "data = np.arange(12) ; data # 0~11, 1차원 배열"
   ]
  },
  {
   "cell_type": "code",
   "execution_count": 47,
   "id": "1054f5bc",
   "metadata": {},
   "outputs": [
    {
     "data": {
      "text/plain": [
       "array([[ 0,  1,  2],\n",
       "       [ 3,  4,  5],\n",
       "       [ 6,  7,  8],\n",
       "       [ 9, 10, 11]])"
      ]
     },
     "execution_count": 47,
     "metadata": {},
     "output_type": "execute_result"
    }
   ],
   "source": [
    "data = data.reshape(4, 3) ; data # 차원 변경 -> 2차원 4행 3열"
   ]
  },
  {
   "cell_type": "code",
   "execution_count": 54,
   "id": "f1901142",
   "metadata": {},
   "outputs": [
    {
     "data": {
      "text/plain": [
       "array([[ 0,  1,  2],\n",
       "       [ 3,  4,  5],\n",
       "       [ 6,  7,  8],\n",
       "       [ 9, 10, 11]])"
      ]
     },
     "execution_count": 54,
     "metadata": {},
     "output_type": "execute_result"
    }
   ],
   "source": [
    "data = np.arange(12).reshape(4, 3) ; data"
   ]
  },
  {
   "cell_type": "code",
   "execution_count": 55,
   "id": "97c555be",
   "metadata": {},
   "outputs": [
    {
     "data": {
      "text/plain": [
       "array([[False, False, False],\n",
       "       [False, False, False],\n",
       "       [ True,  True,  True],\n",
       "       [ True,  True,  True]])"
      ]
     },
     "execution_count": 55,
     "metadata": {},
     "output_type": "execute_result"
    }
   ],
   "source": [
    "data > 5 # True, False 결과 출력"
   ]
  },
  {
   "cell_type": "code",
   "execution_count": 56,
   "id": "64c834ab",
   "metadata": {},
   "outputs": [
    {
     "data": {
      "text/plain": [
       "array([[0, 1, 2],\n",
       "       [3, 4, 5],\n",
       "       [7, 7, 7],\n",
       "       [7, 7, 7]])"
      ]
     },
     "execution_count": 56,
     "metadata": {},
     "output_type": "execute_result"
    }
   ],
   "source": [
    "data[data > 5] = 7 # 5보다 큰 값 -> 7로 교체\n",
    "data"
   ]
  },
  {
   "cell_type": "code",
   "execution_count": 57,
   "id": "8a4093dc",
   "metadata": {},
   "outputs": [
    {
     "name": "stderr",
     "output_type": "stream",
     "text": [
      "C:\\Users\\유수현\\AppData\\Local\\Temp\\ipykernel_11052\\3096464695.py:1: FutureWarning: Using a non-tuple sequence for multidimensional indexing is deprecated; use `arr[tuple(seq)]` instead of `arr[seq]`. In the future this will be interpreted as an array index, `arr[np.array(seq)]`, which will result either in an error or a different result.\n",
      "  data[ [data>5] ]\n"
     ]
    },
    {
     "data": {
      "text/plain": [
       "array([7, 7, 7, 7, 7, 7])"
      ]
     },
     "execution_count": 57,
     "metadata": {},
     "output_type": "execute_result"
    }
   ],
   "source": [
    "data[ [data>5] ]"
   ]
  },
  {
   "cell_type": "code",
   "execution_count": 58,
   "id": "4e4ffa17",
   "metadata": {},
   "outputs": [
    {
     "data": {
      "text/plain": [
       "array([[0, 1, 2],\n",
       "       [3, 4, 5],\n",
       "       [7, 7, 7],\n",
       "       [7, 7, 7]])"
      ]
     },
     "execution_count": 58,
     "metadata": {},
     "output_type": "execute_result"
    }
   ],
   "source": [
    "data"
   ]
  },
  {
   "cell_type": "code",
   "execution_count": 59,
   "id": "6676a068",
   "metadata": {},
   "outputs": [
    {
     "data": {
      "text/plain": [
       "array([[ 1,  2,  3],\n",
       "       [ 4,  5,  6],\n",
       "       [ 7,  8,  9],\n",
       "       [10, 11, 12]])"
      ]
     },
     "execution_count": 59,
     "metadata": {},
     "output_type": "execute_result"
    }
   ],
   "source": [
    "data = np.arange(1, 13, 1).reshape(4, 3) ; data"
   ]
  },
  {
   "cell_type": "code",
   "execution_count": 72,
   "id": "dd611a5d",
   "metadata": {},
   "outputs": [
    {
     "data": {
      "text/plain": [
       "array([[ 1,  3,  5],\n",
       "       [ 7,  9, 11],\n",
       "       [13, 15, 17],\n",
       "       [19, 21, 23]])"
      ]
     },
     "execution_count": 72,
     "metadata": {},
     "output_type": "execute_result"
    }
   ],
   "source": [
    "data = np.arange(1, 24, 2).reshape(4, 3) ; data"
   ]
  },
  {
   "cell_type": "code",
   "execution_count": 61,
   "id": "60044980",
   "metadata": {},
   "outputs": [
    {
     "data": {
      "text/plain": [
       "144"
      ]
     },
     "execution_count": 61,
     "metadata": {},
     "output_type": "execute_result"
    }
   ],
   "source": [
    "data.sum()"
   ]
  },
  {
   "cell_type": "code",
   "execution_count": 62,
   "id": "95f8176f",
   "metadata": {},
   "outputs": [
    {
     "data": {
      "text/plain": [
       "12.0"
      ]
     },
     "execution_count": 62,
     "metadata": {},
     "output_type": "execute_result"
    }
   ],
   "source": [
    "data.mean()"
   ]
  },
  {
   "cell_type": "code",
   "execution_count": 60,
   "id": "21fe3d55",
   "metadata": {},
   "outputs": [
    {
     "data": {
      "text/plain": [
       "array([ 3.,  9., 15., 21.])"
      ]
     },
     "execution_count": 60,
     "metadata": {},
     "output_type": "execute_result"
    }
   ],
   "source": [
    "data.mean(1) # 행단위로 평균 계산"
   ]
  },
  {
   "cell_type": "code",
   "execution_count": 86,
   "id": "a323dd05",
   "metadata": {},
   "outputs": [
    {
     "data": {
      "text/plain": [
       "array([ 3.,  9., 15., 21.])"
      ]
     },
     "execution_count": 86,
     "metadata": {},
     "output_type": "execute_result"
    }
   ],
   "source": [
    "data.mean(axis=1) # axis=1 행, axis=0 열"
   ]
  },
  {
   "cell_type": "code",
   "execution_count": 61,
   "id": "2825c387",
   "metadata": {},
   "outputs": [
    {
     "data": {
      "text/plain": [
       "array([10., 12., 14.])"
      ]
     },
     "execution_count": 61,
     "metadata": {},
     "output_type": "execute_result"
    }
   ],
   "source": [
    "data.mean(0) # 열단위로 평균 계산"
   ]
  },
  {
   "cell_type": "code",
   "execution_count": 80,
   "id": "1dd29c4f",
   "metadata": {},
   "outputs": [
    {
     "data": {
      "text/plain": [
       "7"
      ]
     },
     "execution_count": 80,
     "metadata": {},
     "output_type": "execute_result"
    }
   ],
   "source": [
    "(data > 10).sum()"
   ]
  },
  {
   "cell_type": "code",
   "execution_count": 84,
   "id": "127e528f",
   "metadata": {},
   "outputs": [
    {
     "name": "stderr",
     "output_type": "stream",
     "text": [
      "C:\\Users\\유수현\\AppData\\Local\\Temp\\ipykernel_11052\\2922432276.py:1: FutureWarning: Using a non-tuple sequence for multidimensional indexing is deprecated; use `arr[tuple(seq)]` instead of `arr[seq]`. In the future this will be interpreted as an array index, `arr[np.array(seq)]`, which will result either in an error or a different result.\n",
      "  data[[data>10]].sum()\n"
     ]
    },
    {
     "data": {
      "text/plain": [
       "119"
      ]
     },
     "execution_count": 84,
     "metadata": {},
     "output_type": "execute_result"
    }
   ],
   "source": [
    "data[[data>10]].sum()"
   ]
  },
  {
   "cell_type": "code",
   "execution_count": 68,
   "id": "2efe76b5",
   "metadata": {},
   "outputs": [
    {
     "data": {
      "text/plain": [
       "array([1, 3, 5])"
      ]
     },
     "execution_count": 68,
     "metadata": {},
     "output_type": "execute_result"
    }
   ],
   "source": [
    "data[0]"
   ]
  },
  {
   "cell_type": "code",
   "execution_count": 69,
   "id": "a310d3a1",
   "metadata": {},
   "outputs": [
    {
     "data": {
      "text/plain": [
       "array([[1, 3, 5]])"
      ]
     },
     "execution_count": 69,
     "metadata": {},
     "output_type": "execute_result"
    }
   ],
   "source": [
    "data[[0]]"
   ]
  },
  {
   "cell_type": "code",
   "execution_count": 70,
   "id": "90a791d2",
   "metadata": {},
   "outputs": [
    {
     "data": {
      "text/plain": [
       "array([[ 7,  9, 11],\n",
       "       [ 1,  3,  5]])"
      ]
     },
     "execution_count": 70,
     "metadata": {},
     "output_type": "execute_result"
    }
   ],
   "source": [
    "# 행의 순서를 임의의 순으로 바꿈\n",
    "data[[1, 0]] # 1행, 0행 "
   ]
  },
  {
   "cell_type": "code",
   "execution_count": 71,
   "id": "687c4373",
   "metadata": {},
   "outputs": [
    {
     "data": {
      "text/plain": [
       "7"
      ]
     },
     "execution_count": 71,
     "metadata": {},
     "output_type": "execute_result"
    }
   ],
   "source": [
    "data[1, 0] # 1행, 0열"
   ]
  },
  {
   "cell_type": "code",
   "execution_count": 85,
   "id": "32b93f7c",
   "metadata": {},
   "outputs": [
    {
     "data": {
      "text/plain": [
       "array([[ 1,  7, 13, 19],\n",
       "       [ 3,  9, 15, 21],\n",
       "       [ 5, 11, 17, 23]])"
      ]
     },
     "execution_count": 85,
     "metadata": {},
     "output_type": "execute_result"
    }
   ],
   "source": [
    "# Transpose 전치\n",
    "data.T"
   ]
  },
  {
   "cell_type": "markdown",
   "id": "e7e3cf03",
   "metadata": {},
   "source": [
    "### random\n",
    "- rand() : 0~1사이 균등분포의 random 수(실수)\n",
    "- randint(start, end, count) : (start~(end-1)) 범위의 균등분포 count 개 random 수(정수))\n",
    "- randn() : 정규(Gaussian) 분포의 random 수(평균 0, 표준편차 1), 0~1 사이 아님"
   ]
  },
  {
   "cell_type": "code",
   "execution_count": 97,
   "id": "62271abf",
   "metadata": {},
   "outputs": [],
   "source": [
    "import random as r # 내부 라이브러리"
   ]
  },
  {
   "cell_type": "code",
   "execution_count": 98,
   "id": "b2269666",
   "metadata": {},
   "outputs": [
    {
     "data": {
      "text/plain": [
       "0.5832977773326298"
      ]
     },
     "execution_count": 98,
     "metadata": {},
     "output_type": "execute_result"
    }
   ],
   "source": [
    "r.random() # 0~1 사이의 무작위 수를 추출"
   ]
  },
  {
   "cell_type": "code",
   "execution_count": 99,
   "id": "57f93969",
   "metadata": {},
   "outputs": [
    {
     "name": "stdout",
     "output_type": "stream",
     "text": [
      "4 1 4 3 6 1 3 7 4 1 "
     ]
    }
   ],
   "source": [
    "for i in range(10):\n",
    "    print(r.randint(1,7), end=' ') \n",
    "# randint(1,7): 1~7을 포함한 무작위 수"
   ]
  },
  {
   "cell_type": "code",
   "execution_count": 102,
   "id": "810949a8",
   "metadata": {},
   "outputs": [
    {
     "name": "stdout",
     "output_type": "stream",
     "text": [
      "5 2 4 1 1 1 6 4 6 5 "
     ]
    }
   ],
   "source": [
    "for i in range(10):\n",
    "    print(r.randrange(1,7), end=' ') \n",
    "# randrange(1, 7): 1~6을 7포함x 무작위 수"
   ]
  },
  {
   "cell_type": "code",
   "execution_count": 103,
   "id": "8d3787c2",
   "metadata": {},
   "outputs": [
    {
     "data": {
      "text/plain": [
       "array([43, 34, 71, 60, 34, 76, 25, 15, 91, 78])"
      ]
     },
     "execution_count": 103,
     "metadata": {},
     "output_type": "execute_result"
    }
   ],
   "source": [
    "z = np.random.randint(1, 100, 10) # 0~100 사이의 수 중 10개 추출\n",
    "z"
   ]
  },
  {
   "cell_type": "code",
   "execution_count": 104,
   "id": "5e244321",
   "metadata": {},
   "outputs": [
    {
     "data": {
      "text/plain": [
       "array([0.03957745, 0.71958273, 0.37218913, 0.86084631])"
      ]
     },
     "execution_count": 104,
     "metadata": {},
     "output_type": "execute_result"
    }
   ],
   "source": [
    "zz = np.random.rand(4) # 0~1 사이의 무작위 숫자 4개 추출\n",
    "zz"
   ]
  },
  {
   "cell_type": "code",
   "execution_count": 105,
   "id": "70cfd58e",
   "metadata": {},
   "outputs": [
    {
     "data": {
      "text/plain": [
       "array([ 0.33874883,  0.98718173, -0.62333067, -0.99490422])"
      ]
     },
     "execution_count": 105,
     "metadata": {},
     "output_type": "execute_result"
    }
   ],
   "source": [
    "zzz = np.random.randn(4) # 평균0, 표준편차 1인 주로 -1~1 근처의 값을 4개 추출 \n",
    "zzz"
   ]
  },
  {
   "cell_type": "code",
   "execution_count": 107,
   "id": "39afc04a",
   "metadata": {},
   "outputs": [
    {
     "data": {
      "text/plain": [
       "array([15, 25, 34, 34, 43, 60, 71, 76, 78, 91])"
      ]
     },
     "execution_count": 107,
     "metadata": {},
     "output_type": "execute_result"
    }
   ],
   "source": [
    "z.sort()\n",
    "z"
   ]
  },
  {
   "cell_type": "code",
   "execution_count": 108,
   "id": "960d24ce",
   "metadata": {},
   "outputs": [
    {
     "data": {
      "text/plain": [
       "array([15, 25, 34, 34, 43, 60, 71, 76, 78, 91])"
      ]
     },
     "execution_count": 108,
     "metadata": {},
     "output_type": "execute_result"
    }
   ],
   "source": [
    "np.sort(z) # 오름차순"
   ]
  },
  {
   "cell_type": "code",
   "execution_count": 109,
   "id": "8962cc21",
   "metadata": {},
   "outputs": [
    {
     "data": {
      "text/plain": [
       "array([91, 78, 76, 71, 60, 43, 34, 34, 25, 15])"
      ]
     },
     "execution_count": 109,
     "metadata": {},
     "output_type": "execute_result"
    }
   ],
   "source": [
    "np.sort(z)[::-1] # 내림차순"
   ]
  },
  {
   "cell_type": "code",
   "execution_count": 110,
   "id": "3272d6e0",
   "metadata": {},
   "outputs": [
    {
     "data": {
      "text/plain": [
       "array([78, 15, 43, 34, 91, 34, 76, 71, 25, 60])"
      ]
     },
     "execution_count": 110,
     "metadata": {},
     "output_type": "execute_result"
    }
   ],
   "source": [
    "np.random.permutation(z) # z값을 랜덤으로 섞기"
   ]
  },
  {
   "cell_type": "code",
   "execution_count": 111,
   "id": "918718c4",
   "metadata": {},
   "outputs": [
    {
     "data": {
      "text/plain": [
       "array([[ 8,  4, 11,  5],\n",
       "       [ 2, 10,  7,  3],\n",
       "       [ 9, 12,  1,  6]])"
      ]
     },
     "execution_count": 111,
     "metadata": {},
     "output_type": "execute_result"
    }
   ],
   "source": [
    "t = np.array([[8, 4, 11, 5], [2, 10, 7, 3], [9, 12, 1, 6]]) ; t"
   ]
  },
  {
   "cell_type": "code",
   "execution_count": 112,
   "id": "a57685ea",
   "metadata": {},
   "outputs": [
    {
     "data": {
      "text/plain": [
       "array([[ 4,  5,  8, 11],\n",
       "       [ 2,  3,  7, 10],\n",
       "       [ 1,  6,  9, 12]])"
      ]
     },
     "execution_count": 112,
     "metadata": {},
     "output_type": "execute_result"
    }
   ],
   "source": [
    "t.sort(1) ; t # 행단위로 정렬"
   ]
  },
  {
   "cell_type": "code",
   "execution_count": 113,
   "id": "01efbf19",
   "metadata": {},
   "outputs": [
    {
     "data": {
      "text/plain": [
       "array([[ 1,  3,  7, 10],\n",
       "       [ 2,  5,  8, 11],\n",
       "       [ 4,  6,  9, 12]])"
      ]
     },
     "execution_count": 113,
     "metadata": {},
     "output_type": "execute_result"
    }
   ],
   "source": [
    "t.sort(0) ; t # 열단위로 정렬"
   ]
  },
  {
   "cell_type": "code",
   "execution_count": 114,
   "id": "fcd2d4ff",
   "metadata": {},
   "outputs": [
    {
     "data": {
      "text/plain": [
       "array([[ 1,  3,  7, 10],\n",
       "       [ 2,  5,  8, 11],\n",
       "       [ 4,  6,  9, 12]])"
      ]
     },
     "execution_count": 114,
     "metadata": {},
     "output_type": "execute_result"
    }
   ],
   "source": [
    "t.sort() ; t # 기본: 열단위로 정렬"
   ]
  },
  {
   "cell_type": "code",
   "execution_count": 117,
   "id": "2eedb994",
   "metadata": {},
   "outputs": [
    {
     "name": "stdout",
     "output_type": "stream",
     "text": [
      "[  0.  25.  50.  75. 100.]\n",
      "[0.    0.125 0.25  0.375 0.5   0.625 0.75  0.875 1.   ]\n",
      "[0.         0.02040816 0.04081633 0.06122449 0.08163265 0.10204082\n",
      " 0.12244898 0.14285714 0.16326531 0.18367347 0.20408163 0.2244898\n",
      " 0.24489796 0.26530612 0.28571429 0.30612245 0.32653061 0.34693878\n",
      " 0.36734694 0.3877551  0.40816327 0.42857143 0.44897959 0.46938776\n",
      " 0.48979592 0.51020408 0.53061224 0.55102041 0.57142857 0.59183673\n",
      " 0.6122449  0.63265306 0.65306122 0.67346939 0.69387755 0.71428571\n",
      " 0.73469388 0.75510204 0.7755102  0.79591837 0.81632653 0.83673469\n",
      " 0.85714286 0.87755102 0.89795918 0.91836735 0.93877551 0.95918367\n",
      " 0.97959184 1.        ]\n"
     ]
    }
   ],
   "source": [
    "print(np.linspace(0, 100, 5)) # 0~100사이 동일 간격으로 5개로 나누기\n",
    "print(np.linspace(0, 1, 9))\n",
    "print(np.linspace(0, 1)) # 기본: 50개로 나누기"
   ]
  },
  {
   "cell_type": "code",
   "execution_count": 118,
   "id": "717fdaa4",
   "metadata": {},
   "outputs": [
    {
     "name": "stdout",
     "output_type": "stream",
     "text": [
      "[1.00000000e+00 3.16227766e+02 1.00000000e+05]\n"
     ]
    }
   ],
   "source": [
    "print(np.logspace(0, 5, 3))"
   ]
  },
  {
   "cell_type": "code",
   "execution_count": 120,
   "id": "eae691f4",
   "metadata": {},
   "outputs": [
    {
     "name": "stdout",
     "output_type": "stream",
     "text": [
      "[0.49460165 0.2280831 ][0.25547392 0.39632991][0.3773151  0.99657423]"
     ]
    }
   ],
   "source": [
    "# 랜덤: 숫자들의 패턴 나열\n",
    "np.random.seed(50) # 50번 랜덤을 사용하겠다 선언\n",
    "\n",
    "for _ in range(3):\n",
    "    print(np.random.rand(2), end='')"
   ]
  }
 ],
 "metadata": {
  "kernelspec": {
   "display_name": "Python 3 (ipykernel)",
   "language": "python",
   "name": "python3"
  },
  "language_info": {
   "codemirror_mode": {
    "name": "ipython",
    "version": 3
   },
   "file_extension": ".py",
   "mimetype": "text/x-python",
   "name": "python",
   "nbconvert_exporter": "python",
   "pygments_lexer": "ipython3",
   "version": "3.9.13"
  }
 },
 "nbformat": 4,
 "nbformat_minor": 5
}
